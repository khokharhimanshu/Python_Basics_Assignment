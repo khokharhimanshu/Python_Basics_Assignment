{
 "cells": [
  {
   "cell_type": "markdown",
   "id": "874c4d45-cb14-4c6d-b9b7-7dd9da6cd49c",
   "metadata": {},
   "source": [
    "# Assignment_14"
   ]
  },
  {
   "cell_type": "raw",
   "id": "f97b2ccd-1786-458a-899c-254f7e4d22f3",
   "metadata": {},
   "source": [
    "1. What does RGBA stand for?"
   ]
  },
  {
   "cell_type": "raw",
   "id": "5b0fc954-6bf5-4b0f-9158-8501189d3f94",
   "metadata": {},
   "source": [
    "Ans: Red-Green-Blue-Alpha"
   ]
  },
  {
   "cell_type": "raw",
   "id": "393fd743-b136-4a30-a53b-1856482cd2ee",
   "metadata": {},
   "source": [
    "2. From the Pillow module, how do you get the RGBA value of any images?"
   ]
  },
  {
   "cell_type": "raw",
   "id": "b8ae3fc1-c86f-4b82-832d-ec39c16e446d",
   "metadata": {},
   "source": [
    "Ans: ImageColor.getcolor() gives rgba value of any image"
   ]
  },
  {
   "cell_type": "raw",
   "id": "4933cbe2-e99e-41b4-a39b-1a2cd5b8afde",
   "metadata": {},
   "source": [
    "3. What is a box tuple, and how does it work?"
   ]
  },
  {
   "cell_type": "raw",
   "id": "2530d91e-a4d1-4d47-9b78-670ca1a243b9",
   "metadata": {},
   "source": [
    "Ans: Many of Pillow’s functions and methods take a box tuple argument. This means Pillow is expecting a tuple of four integer coordinates that represent a rectangular region in an image. The four integers are, in order, as follows:\n",
    "Left The x-coordinate of the leftmost edge of the box.\n",
    "Top The y-coordinate of the top edge of the box.\n",
    "Right The x-coordinate of one pixel to the right of the rightmost edge of the box. This integer must be greater than the left integer.\n",
    "Bottom The y-coordinate of one pixel lower than the bottom edge of the box. This integer must be greater than the top integer."
   ]
  },
  {
   "cell_type": "raw",
   "id": "14aada95-d845-4bc4-a3ac-890f992019b9",
   "metadata": {},
   "source": [
    "4. Use your image and load in notebook then, How can you find out the width and height of an\n",
    "Image object?"
   ]
  },
  {
   "cell_type": "raw",
   "id": "c4788cf5-bfb7-4930-8ad8-8d63a3c5a58f",
   "metadata": {},
   "source": [
    "Ans: from PIL import Image\n",
    "filepath = \"IMG_20220703_131219.jpg\"\n",
    "img = Image.open(filepath)\n",
    "width = img.width\n",
    "height = img.height\n",
    "print(\"The height of the image is: \", height)\n",
    "print(\"The width of the image is: \", width)"
   ]
  },
  {
   "cell_type": "raw",
   "id": "bbf44fdc-0403-42fb-bc8e-080a3d50c426",
   "metadata": {},
   "source": [
    "5. What method would you call to get Image object for a 100×100 image, excluding the lower-left\n",
    "quarter of it?"
   ]
  },
  {
   "cell_type": "raw",
   "id": "e25ff275-52be-4b65-ad32-fa1feb41eb0a",
   "metadata": {},
   "source": [
    "Ans: imageObj.size is a tuple of two integers, the width and the height.\n",
    "imageObj.crop((0, 50, 50, 50)). Notice that you are passing a box tuple to crop(), not four separate integer arguments."
   ]
  },
  {
   "cell_type": "raw",
   "id": "3126baaf-747b-4b9b-95a8-14bb459cf497",
   "metadata": {},
   "source": [
    "6. After making changes to an Image object, how could you save it as an image file?"
   ]
  },
  {
   "cell_type": "raw",
   "id": "64344c6c-22aa-45a3-8bd7-3b1d35cfd511",
   "metadata": {},
   "source": [
    "Ans: imageObj.save('new_filename.png')"
   ]
  },
  {
   "cell_type": "raw",
   "id": "10a546cd-4bca-4ddb-9d0d-aec5ce6f1070",
   "metadata": {},
   "source": []
  },
  {
   "cell_type": "raw",
   "id": "14dc13b8-5dd1-40da-9474-075597848b10",
   "metadata": {},
   "source": []
  },
  {
   "cell_type": "raw",
   "id": "6cbe52b3-fd4b-4002-b34a-374fee3ea6d7",
   "metadata": {},
   "source": []
  },
  {
   "cell_type": "raw",
   "id": "72abd2d9-3c2a-45f5-aab6-4ade0113cf08",
   "metadata": {},
   "source": []
  },
  {
   "cell_type": "raw",
   "id": "04a82688-af3b-4735-ab32-539fc838d983",
   "metadata": {},
   "source": []
  }
 ],
 "metadata": {
  "kernelspec": {
   "display_name": "Python 3 (ipykernel)",
   "language": "python",
   "name": "python3"
  },
  "language_info": {
   "codemirror_mode": {
    "name": "ipython",
    "version": 3
   },
   "file_extension": ".py",
   "mimetype": "text/x-python",
   "name": "python",
   "nbconvert_exporter": "python",
   "pygments_lexer": "ipython3",
   "version": "3.10.6"
  }
 },
 "nbformat": 4,
 "nbformat_minor": 5
}
