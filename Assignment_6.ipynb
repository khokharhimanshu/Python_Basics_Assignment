{
 "cells": [
  {
   "cell_type": "markdown",
   "id": "7f6a7a4e-ad82-4ea9-8f33-5883513672ef",
   "metadata": {},
   "source": [
    "# Assignment_6"
   ]
  },
  {
   "cell_type": "raw",
   "id": "45cca191-7800-4de8-9892-87266383b8a3",
   "metadata": {},
   "source": [
    "1. What are escape characters, and how do you use them?"
   ]
  },
  {
   "cell_type": "raw",
   "id": "65257f28-b124-445a-8afc-fac09a794cef",
   "metadata": {},
   "source": [
    "Escape characters are special sequence character used with backslash which interprets to a different meaning when used with a string inside double quote .\n",
    "Escape character are used after the backslash.\n",
    "Ex: \"\\n\",\"\\t\" etc"
   ]
  },
  {
   "cell_type": "raw",
   "id": "478cef28-aaa9-4cae-8873-f3c4c84336c4",
   "metadata": {},
   "source": [
    "2. What do the escape characters n and t stand for?"
   ]
  },
  {
   "cell_type": "raw",
   "id": "a4d3f344-8098-485f-9c01-cdbf387d4f6e",
   "metadata": {},
   "source": [
    "\\n is for a new line \n",
    "\\t is for a single tab"
   ]
  },
  {
   "cell_type": "raw",
   "id": "64cbddc4-07db-48dd-b070-9ae848652b5b",
   "metadata": {},
   "source": [
    "3. What is the way to include backslash characters in a string?"
   ]
  },
  {
   "cell_type": "raw",
   "id": "bfd0d243-6906-4477-b46b-2d66d685db08",
   "metadata": {},
   "source": [
    "Backslash character can be included in a string with double backslach.\n",
    "E:\\\\will produce\\\n",
    "\\\\n will produce \\n"
   ]
  },
  {
   "cell_type": "raw",
   "id": "f6c84b96-42e9-4888-8951-6517ac648625",
   "metadata": {},
   "source": [
    "4. The string 'Howl's Moving Castle' is a correct value. Why isn't the single quote character in the word Howl's not escaped a problem?"
   ]
  },
  {
   "cell_type": "raw",
   "id": "f65fb19f-2981-4a6b-bf38-34d9a418d043",
   "metadata": {},
   "source": [
    "As the single quotes is used inside the double quotes it is not creating any problem."
   ]
  },
  {
   "cell_type": "raw",
   "id": "c0838cef-8328-4e97-9c5d-72159f71a6b9",
   "metadata": {},
   "source": [
    "5. How do you write a string of newlines if you don't want to use the n character?"
   ]
  },
  {
   "cell_type": "raw",
   "id": "99741a1e-c4d2-40dd-b015-380a87959f26",
   "metadata": {},
   "source": [
    "Use another print statement"
   ]
  },
  {
   "cell_type": "raw",
   "id": "2f235999-d10c-4708-be99-d1fea62838b6",
   "metadata": {},
   "source": [
    "6. What are the values of the given expressions?\n",
    "'Hello, world!'[1]\n",
    "'Hello, world!'[0:5]\n",
    "'Hello, world!'[:5]\n",
    "'hello, world!'[3:]"
   ]
  },
  {
   "cell_type": "raw",
   "id": "06b93828-f5e5-49ad-81cd-d29ece0ee2d8",
   "metadata": {},
   "source": [
    "'Hello, world!'[1] # 'e'\n",
    "'Hello, world!'[0:5] # 'Hello'\n",
    "'Hello, world!'[:5] # 'Hello'\n",
    "'hello, world!'[3:] # 'lo,world!'"
   ]
  },
  {
   "cell_type": "raw",
   "id": "71192d64-f141-42d3-89e2-e8c97c3ce602",
   "metadata": {},
   "source": [
    "7. What are the values of the following expressions?\n",
    "'Hello'.upper()\n",
    "'Hello'.upper().isupper()\n",
    "'Hello'.upper().lower()"
   ]
  },
  {
   "cell_type": "raw",
   "id": "f8faf995-bd6a-45a4-a120-c790868485a7",
   "metadata": {},
   "source": [
    "'Hello'.upper() # 'HELLO'\n",
    "'Hello'.upper().isupper() # True\n",
    "'Hello'.upper().lower() # 'hello'"
   ]
  },
  {
   "cell_type": "raw",
   "id": "eaf84cbd-349a-4a2c-b23c-f098c2da0714",
   "metadata": {},
   "source": [
    "8. What are the values of the following expressions?\n",
    "'Remember, remember, the fifth of July.'.split()\n",
    "'-'.join('There can only one.'.split())"
   ]
  },
  {
   "cell_type": "raw",
   "id": "6a873678-5365-4246-84e4-5d641cb5a248",
   "metadata": {},
   "source": [
    "'Remember, remember, the fifth of July.'.split() # ['Remember','remember','the','fifth','of','july']\n",
    "'-'.join('There can only one.'.split()) # Therer-can-only-one."
   ]
  },
  {
   "cell_type": "raw",
   "id": "cd3ff518-2793-4907-83bb-5b1b95e508fc",
   "metadata": {},
   "source": [
    "9. What are the methods for right-justifying, left-justifying, and centering a string?"
   ]
  },
  {
   "cell_type": "raw",
   "id": "3d82b08f-a32d-44dd-b4de-6092eb274dba",
   "metadata": {},
   "source": [
    "ljust()-left justify,.\n",
    "rjust()-right juistify,\n",
    "center()-center align"
   ]
  },
  {
   "cell_type": "raw",
   "id": "dfa85cdc-d4eb-4210-a665-f6c3665876ea",
   "metadata": {},
   "source": [
    "10. What is the best way to remove whitespace characters from the start or end?"
   ]
  },
  {
   "cell_type": "raw",
   "id": "75c56492-4101-4924-8a0a-732c5d595548",
   "metadata": {},
   "source": [
    "Use strip() method to remove whitespaces characters from the start or end "
   ]
  }
 ],
 "metadata": {
  "kernelspec": {
   "display_name": "Python 3 (ipykernel)",
   "language": "python",
   "name": "python3"
  },
  "language_info": {
   "codemirror_mode": {
    "name": "ipython",
    "version": 3
   },
   "file_extension": ".py",
   "mimetype": "text/x-python",
   "name": "python",
   "nbconvert_exporter": "python",
   "pygments_lexer": "ipython3",
   "version": "3.10.6"
  }
 },
 "nbformat": 4,
 "nbformat_minor": 5
}
