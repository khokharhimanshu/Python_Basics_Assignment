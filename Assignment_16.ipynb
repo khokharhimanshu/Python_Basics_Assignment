{
 "cells": [
  {
   "cell_type": "markdown",
   "id": "0bdc65c6-57ed-4fb7-a2d6-eede1a0fc9a7",
   "metadata": {},
   "source": [
    "# Assignment_16"
   ]
  },
  {
   "cell_type": "raw",
   "id": "90a9cff2-f594-4533-b08a-c8d372310e51",
   "metadata": {},
   "source": [
    "1. Create a list called years_list, starting with the year of your birth, and each year thereafter until\n",
    "the year of your fifth birthday. For example, if you were born in 1980. the list would be years_list =\n",
    "[1980, 1981, 1982, 1983, 1984, 1985]."
   ]
  },
  {
   "cell_type": "code",
   "execution_count": 1,
   "id": "aaa8f179-26ad-484f-a208-22331a04f5b4",
   "metadata": {},
   "outputs": [
    {
     "name": "stdout",
     "output_type": "stream",
     "text": [
      "[2000, 2001, 2002, 2003, 2004, 2005]\n"
     ]
    }
   ],
   "source": [
    "year_list = [i for i in range(2000,2000+6)]\n",
    "\n",
    "print(year_list)"
   ]
  },
  {
   "cell_type": "raw",
   "id": "75ee497e-8144-493a-a1da-72fc7fd93d07",
   "metadata": {},
   "source": [
    "2. In which year in years_list was your third birthday? Remember, you were 0 years of age for your\n",
    "first year."
   ]
  },
  {
   "cell_type": "code",
   "execution_count": 2,
   "id": "4973c074-e994-4423-9cdf-3f6b77aa8387",
   "metadata": {},
   "outputs": [
    {
     "data": {
      "text/plain": [
       "2003"
      ]
     },
     "execution_count": 2,
     "metadata": {},
     "output_type": "execute_result"
    }
   ],
   "source": [
    "year_list[3]"
   ]
  },
  {
   "cell_type": "raw",
   "id": "47dfe39d-22e0-4508-be84-b182786a7f98",
   "metadata": {},
   "source": [
    "3.In the years list, which year were you the oldest?"
   ]
  },
  {
   "cell_type": "code",
   "execution_count": 5,
   "id": "42df66dc-4b5b-47df-8222-eee44dc393d3",
   "metadata": {},
   "outputs": [
    {
     "data": {
      "text/plain": [
       "2005"
      ]
     },
     "execution_count": 5,
     "metadata": {},
     "output_type": "execute_result"
    }
   ],
   "source": [
    "year_list[-1]"
   ]
  },
  {
   "cell_type": "raw",
   "id": "66112480-7209-4251-9e7c-eee3f7e29ffd",
   "metadata": {},
   "source": [
    "4. Make a list called things with these three strings as elements: \"mozzarella\", \"cinderella\",\n",
    "\"salmonella\"."
   ]
  },
  {
   "cell_type": "code",
   "execution_count": 6,
   "id": "1c1bde93-7a30-42b1-9832-14c2d311ef68",
   "metadata": {},
   "outputs": [
    {
     "name": "stdout",
     "output_type": "stream",
     "text": [
      "['mozzarella', 'cinderella', 'salmonella']\n"
     ]
    }
   ],
   "source": [
    "lst =  [\"mozzarella\", \"cinderella\", \"salmonella\"]\n",
    "print(lst)"
   ]
  },
  {
   "cell_type": "code",
   "execution_count": 7,
   "id": "0591ba76-281b-4bfb-b651-3fbbf966a4db",
   "metadata": {},
   "outputs": [
    {
     "name": "stdout",
     "output_type": "stream",
     "text": [
      "['mozzarella', 'Cinderella', 'salmonella']\n"
     ]
    }
   ],
   "source": [
    "for i in range(len(lst)):\n",
    "    if lst[i] == \"cinderella\":\n",
    "        lst[i] = lst[i].capitalize()\n",
    "        \n",
    "print(lst)"
   ]
  },
  {
   "cell_type": "code",
   "execution_count": 8,
   "id": "806d6260-1dd4-4412-9bb5-9ea0fdbd6a38",
   "metadata": {},
   "outputs": [
    {
     "data": {
      "text/plain": [
       "'Cinderella'"
      ]
     },
     "execution_count": 8,
     "metadata": {},
     "output_type": "execute_result"
    }
   ],
   "source": [
    "lst[1].capitalize()"
   ]
  },
  {
   "cell_type": "raw",
   "id": "7fce0468-df09-4465-b562-7206126e27e1",
   "metadata": {},
   "source": [
    "5. Capitalize the element in things that refers to a person and then print the list. Did it change the\n",
    "element in the list?"
   ]
  },
  {
   "cell_type": "raw",
   "id": "1b148284-2deb-4abb-98fb-122fbbbc945d",
   "metadata": {},
   "source": [
    "Ans: This capitalizes the word, but doesn’t change it in the list:\n",
    "things_cap = things.copy()\n",
    "things_cap[1].capitalize()"
   ]
  },
  {
   "cell_type": "raw",
   "id": "7d92a560-0dff-4598-bd8c-ceef6ac5d415",
   "metadata": {},
   "source": [
    "6. Make a surprise list with the elements \"Groucho,\"\"Chico,\" and \"Harp\"."
   ]
  },
  {
   "cell_type": "code",
   "execution_count": 10,
   "id": "2b6ba68d-51c6-41d8-bf23-0e081170f76e",
   "metadata": {},
   "outputs": [
    {
     "name": "stdout",
     "output_type": "stream",
     "text": [
      "['Groucho,Chico,', 'Harpo']\n"
     ]
    }
   ],
   "source": [
    "Surprise_list = [\"Groucho,\" \"Chico,\", \"Harpo\"]\n",
    "print(Surprise_list)"
   ]
  },
  {
   "cell_type": "raw",
   "id": "54331a64-4661-471e-8bef-1ff5cf4cb6cc",
   "metadata": {},
   "source": [
    "7. Lowercase the last element of the surprise list, reverse it, and then capitalize it."
   ]
  },
  {
   "cell_type": "code",
   "execution_count": 12,
   "id": "e5c5c7e9-4c8c-4524-81dd-beaee4d50f27",
   "metadata": {},
   "outputs": [
    {
     "name": "stdout",
     "output_type": "stream",
     "text": [
      "Oprah\n"
     ]
    }
   ],
   "source": [
    "print(Surprise_list[-1].lower()[::-1].capitalize())"
   ]
  },
  {
   "cell_type": "raw",
   "id": "d4fab9ce-3610-4419-8c8e-ab1237254cf9",
   "metadata": {},
   "source": [
    "8. Make an English-to-French dictionary called e2f and print it. Here are your starter words: dog is\n",
    "chien, cat is chat, and walrus is morse."
   ]
  },
  {
   "cell_type": "code",
   "execution_count": 13,
   "id": "104bea1f-f389-434d-bebf-b87373989129",
   "metadata": {},
   "outputs": [
    {
     "name": "stdout",
     "output_type": "stream",
     "text": [
      "{'dog': 'chien', 'cat': 'chat', 'walrus': 'morse'}\n"
     ]
    }
   ],
   "source": [
    "e2f = {'dog':'chien','cat':'chat','walrus':'morse'}\n",
    "print(e2f)"
   ]
  },
  {
   "cell_type": "raw",
   "id": "7a32a233-2f45-477d-90b4-1d5d54a84620",
   "metadata": {},
   "source": [
    "9. Write the French word for walrus in your three-word dictionary e2f."
   ]
  },
  {
   "cell_type": "code",
   "execution_count": 14,
   "id": "c5165c6b-7cee-42c1-bdda-d437e505f1c2",
   "metadata": {},
   "outputs": [
    {
     "data": {
      "text/plain": [
       "'morse'"
      ]
     },
     "execution_count": 14,
     "metadata": {},
     "output_type": "execute_result"
    }
   ],
   "source": [
    "e2f['walrus']"
   ]
  },
  {
   "cell_type": "raw",
   "id": "caf16ea4-d91f-471a-8fbd-70cca751e7df",
   "metadata": {},
   "source": [
    "10. Make a French-to-English dictionary called f2e from e2f. Use the items method."
   ]
  },
  {
   "cell_type": "code",
   "execution_count": 15,
   "id": "02901fd0-1181-49ab-9a35-bae2defb5ca8",
   "metadata": {},
   "outputs": [
    {
     "name": "stdout",
     "output_type": "stream",
     "text": [
      "{'chien': 'dog', 'chat': 'cat', 'morse': 'walrus'}\n"
     ]
    }
   ],
   "source": [
    "f2e = dict([i[::-1] for i in e2f.items()])\n",
    "print(f2e)"
   ]
  },
  {
   "cell_type": "raw",
   "id": "ba27878c-6708-49cf-a21e-9dd0c51de1de",
   "metadata": {},
   "source": [
    "11. Print the English version of the French word chien using f2e."
   ]
  },
  {
   "cell_type": "code",
   "execution_count": 16,
   "id": "708abb3f-ba98-4e81-a8b7-3ff36f2c6259",
   "metadata": {},
   "outputs": [
    {
     "name": "stdout",
     "output_type": "stream",
     "text": [
      "dog\n"
     ]
    }
   ],
   "source": [
    "print(f2e.get(\"chien\"))"
   ]
  },
  {
   "cell_type": "raw",
   "id": "f20470e4-37b0-4464-908d-dcf684155c34",
   "metadata": {},
   "source": [
    "12. Make and print a set of English words from the keys in e2f."
   ]
  },
  {
   "cell_type": "code",
   "execution_count": 17,
   "id": "eb1e91b3-2ac7-4ba4-a298-7f8a0ef350e1",
   "metadata": {},
   "outputs": [
    {
     "data": {
      "text/plain": [
       "{'cat', 'dog', 'walrus'}"
      ]
     },
     "execution_count": 17,
     "metadata": {},
     "output_type": "execute_result"
    }
   ],
   "source": [
    "set(e2f.keys())"
   ]
  },
  {
   "cell_type": "raw",
   "id": "b8d34d9a-909a-447d-831e-caa1eefe5af9",
   "metadata": {},
   "source": [
    "13. Make a multilevel dictionary called life. Use these strings for the topmost keys: \"animals\", \"plants\",\n",
    "and \"other\". Make the \"animals\" key refer to another dictionary with the keys \"cats\", \"octopi\", and\n",
    "\"emus\". Make the \"cats\" key refer to a list of strings with the values \"Henri\", \"Grumpy\", and \"Lucy\".\n",
    "Make all the other keys refer to empty dictionaries."
   ]
  },
  {
   "cell_type": "code",
   "execution_count": 18,
   "id": "9d2fe75e-08d1-4939-a9e2-daac5a808ae9",
   "metadata": {},
   "outputs": [
    {
     "name": "stdout",
     "output_type": "stream",
     "text": [
      "{'animals': {'cats': ['Henri', 'Grumpy', 'Lucy'], 'octopi': {}, 'emus': {}}, 'plants': {}, 'other': {}}\n"
     ]
    }
   ],
   "source": [
    "life = {\n",
    "    'animals':{\n",
    "        'cats':['Henri','Grumpy','Lucy'],\n",
    "        'octopi':{},\n",
    "        'emus':{}\n",
    "    },\n",
    "    'plants':{},\n",
    "    'other':{}\n",
    "}\n",
    "print(life)"
   ]
  },
  {
   "cell_type": "raw",
   "id": "4487c0c1-c169-4d79-9cde-0b4ee4d5e0b9",
   "metadata": {},
   "source": [
    "14. Print the top-level keys of life."
   ]
  },
  {
   "cell_type": "code",
   "execution_count": 19,
   "id": "59d49c07-db1a-41a8-a014-c65098f7b0c8",
   "metadata": {},
   "outputs": [
    {
     "name": "stdout",
     "output_type": "stream",
     "text": [
      "dict_keys(['animals', 'plants', 'other'])\n"
     ]
    }
   ],
   "source": [
    "print(life.keys())"
   ]
  },
  {
   "cell_type": "raw",
   "id": "f8b6c7b4-2d63-4b44-915a-7ef3833155d2",
   "metadata": {},
   "source": []
  },
  {
   "cell_type": "raw",
   "id": "8033063f-ba15-4d64-b61a-169bd3bf44db",
   "metadata": {},
   "source": []
  },
  {
   "cell_type": "raw",
   "id": "d700dff1-303f-4a91-aa73-5f6b808c979a",
   "metadata": {},
   "source": []
  },
  {
   "cell_type": "raw",
   "id": "a15d4148-2d19-4a5f-9453-7602c0692781",
   "metadata": {},
   "source": []
  }
 ],
 "metadata": {
  "kernelspec": {
   "display_name": "Python 3 (ipykernel)",
   "language": "python",
   "name": "python3"
  },
  "language_info": {
   "codemirror_mode": {
    "name": "ipython",
    "version": 3
   },
   "file_extension": ".py",
   "mimetype": "text/x-python",
   "name": "python",
   "nbconvert_exporter": "python",
   "pygments_lexer": "ipython3",
   "version": "3.10.6"
  }
 },
 "nbformat": 4,
 "nbformat_minor": 5
}
