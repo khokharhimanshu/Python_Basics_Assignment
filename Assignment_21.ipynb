{
 "cells": [
  {
   "cell_type": "markdown",
   "id": "00701d77-1300-48c8-a6a2-c33867fab6c7",
   "metadata": {},
   "source": [
    "# Assignment 21"
   ]
  },
  {
   "cell_type": "raw",
   "id": "e6b9cd33-08f6-4f72-bd60-b0294bf8ac1c",
   "metadata": {},
   "source": [
    "1. Add the current date to the text file today.txt as a string."
   ]
  },
  {
   "cell_type": "code",
   "execution_count": 1,
   "id": "b1a02819-a96d-4686-9e18-117d11b56430",
   "metadata": {},
   "outputs": [],
   "source": [
    "import datetime\n",
    "file = open(\"today.txt\",\"w\")\n",
    "\n",
    "file.write(datetime.datetime.now().strftime(\"%d-%m-%Y\"))\n",
    "file.close()"
   ]
  },
  {
   "cell_type": "code",
   "execution_count": 2,
   "id": "c0510fe4-d029-424c-8fba-8581817d4452",
   "metadata": {},
   "outputs": [
    {
     "name": "stdout",
     "output_type": "stream",
     "text": [
      "03-07-2023\n"
     ]
    }
   ],
   "source": [
    "file = open(\"today.txt\", \"r\")\n",
    "\n",
    "print(file.read())\n",
    "file.close()"
   ]
  },
  {
   "cell_type": "raw",
   "id": "3b6117c5-e75d-4d42-8c47-b9a8f2486f6a",
   "metadata": {},
   "source": [
    "2. Read the text file today.txt into the string today_string"
   ]
  },
  {
   "cell_type": "code",
   "execution_count": 4,
   "id": "5b3525e6-7a8a-4428-b5ad-76ce647ccd34",
   "metadata": {},
   "outputs": [
    {
     "name": "stdout",
     "output_type": "stream",
     "text": [
      "03-07-2023\n"
     ]
    }
   ],
   "source": [
    "file = open(\"today.txt\", \"r\")\n",
    "today_string = file.read()\n",
    "print(today_string)"
   ]
  },
  {
   "cell_type": "raw",
   "id": "81d57996-eb55-4df2-b142-3854d252e54a",
   "metadata": {},
   "source": [
    "3. Parse the date from today_string."
   ]
  },
  {
   "cell_type": "code",
   "execution_count": 6,
   "id": "5a7d5984-aead-4026-a9a0-6939e8863677",
   "metadata": {},
   "outputs": [
    {
     "name": "stdout",
     "output_type": "stream",
     "text": [
      "2023-07-03 00:00:00\n"
     ]
    }
   ],
   "source": [
    "from datetime import datetime\n",
    "\n",
    "parse_date = datetime.strptime(today_string,\"%d-%m-%Y\")\n",
    "print(parse_date)"
   ]
  },
  {
   "cell_type": "raw",
   "id": "425cca2b-64ed-4872-8791-e8ea24087431",
   "metadata": {},
   "source": [
    "4. List the files in your current directory"
   ]
  },
  {
   "cell_type": "code",
   "execution_count": 7,
   "id": "7bf0b299-6727-4dba-90dc-158e90925719",
   "metadata": {},
   "outputs": [
    {
     "data": {
      "text/plain": [
       "['README.md',\n",
       " 'Assignment_5.ipynb',\n",
       " 'Assignment_15.ipynb',\n",
       " 'DSA_Assignment_13.ipynb',\n",
       " 'Assignment_18.ipynb',\n",
       " 'DSA_Assignment_6.ipynb',\n",
       " 'gfg.png',\n",
       " 'test.txt',\n",
       " 'Assignment_14.ipynb',\n",
       " 'DSA_Assignment_15.ipynb',\n",
       " 'sample-code.ipynb',\n",
       " 'zoo.py',\n",
       " 'Assignment_10.ipynb',\n",
       " 'question.png',\n",
       " 'DSA_Assignment_9.ipynb',\n",
       " 'DSA_Assignment_12.ipynb',\n",
       " 'Assignment_21.ipynb',\n",
       " 'DSA_Assignment_7.ipynb',\n",
       " '.git',\n",
       " 'Assignment_13.ipynb',\n",
       " 'Assignment_12.ipynb',\n",
       " 'DSA_Assignment_19.ipynb',\n",
       " 'DSA_Assignment_20.ipynb',\n",
       " 'DSA_Assignment_2.ipynb',\n",
       " 'DSA_Asssignment_4.ipynb',\n",
       " 'Assignment_9.ipynb',\n",
       " 'Assignment_20.ipynb',\n",
       " 'DSA_Assignment_16.ipynb',\n",
       " 'DSA.ipynb',\n",
       " 'DSA_Assignment_21.ipynb',\n",
       " 'Assignment_7.ipynb',\n",
       " 'Assignment_4.ipynb',\n",
       " 'DSA_Assignment_5.ipynb',\n",
       " 'Assignment_11.ipynb',\n",
       " 'Assignment_3.ipynb',\n",
       " 'DSA_Assignment_8.ipynb',\n",
       " 'Assignment_6.ipynb',\n",
       " 'Assignment_8.ipynb',\n",
       " 'DSA_Assignment_3.ipynb',\n",
       " 'Assignment_19.ipynb',\n",
       " 'DSA_Assignment_18.ipynb',\n",
       " 'Assignment_16.ipynb',\n",
       " 'Untitled1.ipynb',\n",
       " 'Question_1.png',\n",
       " '__pycache__',\n",
       " 'books.db',\n",
       " 'python_1.ipynb',\n",
       " 'decision tree (1).ipynb',\n",
       " 'Assignment_17.ipynb',\n",
       " 'DSA_Assignment_17.ipynb',\n",
       " 'practice.ipynb',\n",
       " 'Untitled.ipynb',\n",
       " '.ipynb_checkpoints',\n",
       " 'DSA_Assignment_14.ipynb',\n",
       " 'today.txt',\n",
       " 'DSA_Assignment_10.ipynb',\n",
       " 'DSA_Assignment_22.ipynb',\n",
       " 'books.csv',\n",
       " 'DSA_Assignment_11.ipynb',\n",
       " 'question1.png']"
      ]
     },
     "execution_count": 7,
     "metadata": {},
     "output_type": "execute_result"
    }
   ],
   "source": [
    "import os\n",
    "os.listdir('.')"
   ]
  },
  {
   "cell_type": "raw",
   "id": "c7b63542-45fd-4d67-ab98-fc58885b2c8e",
   "metadata": {},
   "source": [
    "5. Create a list of all of the files in your parent directory (minimum five files should be available)."
   ]
  },
  {
   "cell_type": "code",
   "execution_count": 8,
   "id": "d909988e-ad78-4947-a72f-9e478ef0e4ab",
   "metadata": {},
   "outputs": [
    {
     "data": {
      "text/plain": [
       "['README.md',\n",
       " 'Assignment_5.ipynb',\n",
       " 'Assignment_15.ipynb',\n",
       " 'DSA_Assignment_13.ipynb',\n",
       " 'Assignment_18.ipynb',\n",
       " 'DSA_Assignment_6.ipynb',\n",
       " 'gfg.png',\n",
       " 'test.txt',\n",
       " 'Assignment_14.ipynb',\n",
       " 'DSA_Assignment_15.ipynb',\n",
       " 'sample-code.ipynb',\n",
       " 'zoo.py',\n",
       " 'Assignment_10.ipynb',\n",
       " 'question.png',\n",
       " 'DSA_Assignment_9.ipynb',\n",
       " 'DSA_Assignment_12.ipynb',\n",
       " 'Assignment_21.ipynb',\n",
       " 'DSA_Assignment_7.ipynb',\n",
       " '.git',\n",
       " 'Assignment_13.ipynb',\n",
       " 'Assignment_12.ipynb',\n",
       " 'DSA_Assignment_19.ipynb',\n",
       " 'DSA_Assignment_20.ipynb',\n",
       " 'DSA_Assignment_2.ipynb',\n",
       " 'DSA_Asssignment_4.ipynb',\n",
       " 'Assignment_9.ipynb',\n",
       " 'Assignment_20.ipynb',\n",
       " 'DSA_Assignment_16.ipynb',\n",
       " 'DSA.ipynb',\n",
       " 'DSA_Assignment_21.ipynb',\n",
       " 'Assignment_7.ipynb',\n",
       " 'Assignment_4.ipynb',\n",
       " 'DSA_Assignment_5.ipynb',\n",
       " 'Assignment_11.ipynb',\n",
       " 'Assignment_3.ipynb',\n",
       " 'DSA_Assignment_8.ipynb',\n",
       " 'Assignment_6.ipynb',\n",
       " 'Assignment_8.ipynb',\n",
       " 'DSA_Assignment_3.ipynb',\n",
       " 'Assignment_19.ipynb',\n",
       " 'DSA_Assignment_18.ipynb',\n",
       " 'Assignment_16.ipynb',\n",
       " 'Untitled1.ipynb',\n",
       " 'Question_1.png',\n",
       " '__pycache__',\n",
       " 'books.db',\n",
       " 'python_1.ipynb',\n",
       " 'decision tree (1).ipynb',\n",
       " 'Assignment_17.ipynb',\n",
       " 'DSA_Assignment_17.ipynb',\n",
       " 'practice.ipynb',\n",
       " 'Untitled.ipynb',\n",
       " '.ipynb_checkpoints',\n",
       " 'DSA_Assignment_14.ipynb',\n",
       " 'today.txt',\n",
       " 'DSA_Assignment_10.ipynb',\n",
       " 'DSA_Assignment_22.ipynb',\n",
       " 'books.csv',\n",
       " 'DSA_Assignment_11.ipynb',\n",
       " 'question1.png']"
      ]
     },
     "execution_count": 8,
     "metadata": {},
     "output_type": "execute_result"
    }
   ],
   "source": [
    "os.listdir()"
   ]
  },
  {
   "cell_type": "raw",
   "id": "ea898059-5ff9-4631-9155-591c625fe973",
   "metadata": {},
   "source": [
    "6. Use multiprocessing to create three separate processes. Make each one wait a random number of seconds between one and five, print the current time, and then exit."
   ]
  },
  {
   "cell_type": "code",
   "execution_count": 14,
   "id": "677705f5-77fc-4816-a135-303739ce6df1",
   "metadata": {},
   "outputs": [
    {
     "name": "stdout",
     "output_type": "stream",
     "text": [
      "Proc_one_Starttime -> 2023-07-03 07:18:51.974927\n",
      "Proc_two_Starttime -> 2023-07-03 07:18:51.980584\n",
      "Proc_two_Starttime -> 2023-07-03 07:18:51.986056\n",
      "Proc_two_Endtime -> 2023-07-03 07:18:52.990849\n",
      "Proc_two_Endtime -> 2023-07-03 07:18:53.988265\n",
      "Proc_one_Endtime -> 2023-07-03 07:18:55.981430\n"
     ]
    }
   ],
   "source": [
    "import multiprocessing\n",
    "import time \n",
    "import random\n",
    "import datetime\n",
    "\n",
    "def procOne():\n",
    "    print(f'Proc_one_Starttime -> {datetime.datetime.now()}')\n",
    "    time.sleep(random.randint(1,5))\n",
    "    print(f'Proc_one_Endtime -> {datetime.datetime.now()}')\n",
    "    \n",
    "def procTwo():\n",
    "    print(f'Proc_two_Starttime -> {datetime.datetime.now()}')\n",
    "    time.sleep(random.randint(1,5))\n",
    "    print(f'Proc_two_Endtime -> {datetime.datetime.now()}')\n",
    "\n",
    "def procThree():\n",
    "    print(f'Proc_two_Starttime -> {datetime.datetime.now()}')\n",
    "    time.sleep(random.randint(1,5))\n",
    "    print(f'Proc_two_Endtime -> {datetime.datetime.now()}')\n",
    "    \n",
    "if __name__ == \"__main__\":    \n",
    "    p1 = multiprocessing.Process(target=procOne)\n",
    "    p2 = multiprocessing.Process(target=procTwo)\n",
    "    p3 = multiprocessing.Process(target=procThree)\n",
    "\n",
    "    p1.start()\n",
    "    p2.start()\n",
    "    p3.start()\n",
    "\n",
    "    p1.join()\n",
    "    p2.join()\n",
    "    p3.join()"
   ]
  },
  {
   "cell_type": "code",
   "execution_count": 15,
   "id": "a1a8090e-4dc3-4057-b330-cb2e4085d410",
   "metadata": {},
   "outputs": [
    {
     "name": "stdout",
     "output_type": "stream",
     "text": [
      "python: can't open file '/home/jovyan/work/multi_process.py': [Errno 2] No such file or directory\n"
     ]
    }
   ],
   "source": [
    "!python multi_process.py"
   ]
  },
  {
   "cell_type": "raw",
   "id": "7fc392b4-3620-4101-bd19-2c75aaa74494",
   "metadata": {},
   "source": [
    "7. Create a date object of your day of birth."
   ]
  },
  {
   "cell_type": "code",
   "execution_count": 17,
   "id": "842e2f67-5612-4432-aec7-6e99ef2c3038",
   "metadata": {},
   "outputs": [
    {
     "name": "stdout",
     "output_type": "stream",
     "text": [
      "2003-08-12\n"
     ]
    }
   ],
   "source": [
    "import datetime\n",
    "\n",
    "birth_date = datetime.date(2003, 8, 12)\n",
    "print(birth_date)"
   ]
  },
  {
   "cell_type": "raw",
   "id": "d44f666b-d8c5-4ff8-ae8d-50643235dffd",
   "metadata": {},
   "source": [
    "8. What day of the week was your day of birth?"
   ]
  },
  {
   "cell_type": "code",
   "execution_count": 18,
   "id": "a8615cc3-0ca2-49d8-a97e-ac590f85e9ec",
   "metadata": {},
   "outputs": [
    {
     "name": "stdout",
     "output_type": "stream",
     "text": [
      "Saturday\n"
     ]
    }
   ],
   "source": [
    "import datetime\n",
    "\n",
    "birth_date = datetime.date(2000, 1, 1)\n",
    "day_of_week = birth_date.strftime('%A')\n",
    "print(day_of_week)\n"
   ]
  },
  {
   "cell_type": "raw",
   "id": "39369b9e-edc6-4bf7-bfc3-d38bd62df660",
   "metadata": {},
   "source": [
    "9. When will you be (or when were you) 10,000 days old?"
   ]
  },
  {
   "cell_type": "code",
   "execution_count": 20,
   "id": "781b32a1-4ec5-458d-9f40-038eee94119f",
   "metadata": {},
   "outputs": [
    {
     "name": "stdout",
     "output_type": "stream",
     "text": [
      "2017-05-19\n"
     ]
    }
   ],
   "source": [
    "import datetime\n",
    "\n",
    "birth_date = datetime.date(1990, 1, 1)  \n",
    "age_in_days = 10000\n",
    "\n",
    "target_date = birth_date + datetime.timedelta(days=age_in_days)\n",
    "\n",
    "print(target_date)"
   ]
  },
  {
   "cell_type": "code",
   "execution_count": null,
   "id": "5dde8f96-9f03-4852-ac36-2815722a50b7",
   "metadata": {},
   "outputs": [],
   "source": []
  }
 ],
 "metadata": {
  "kernelspec": {
   "display_name": "Python 3 (ipykernel)",
   "language": "python",
   "name": "python3"
  },
  "language_info": {
   "codemirror_mode": {
    "name": "ipython",
    "version": 3
   },
   "file_extension": ".py",
   "mimetype": "text/x-python",
   "name": "python",
   "nbconvert_exporter": "python",
   "pygments_lexer": "ipython3",
   "version": "3.10.6"
  }
 },
 "nbformat": 4,
 "nbformat_minor": 5
}
