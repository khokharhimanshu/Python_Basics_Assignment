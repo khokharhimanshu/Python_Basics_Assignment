{
 "cells": [
  {
   "cell_type": "markdown",
   "id": "957681e6-4695-43cc-ad16-7aaabaed95fd",
   "metadata": {},
   "source": [
    "# Assignment_4"
   ]
  },
  {
   "cell_type": "raw",
   "id": "2a521164-6019-476b-9cc0-0b07933bcdfa",
   "metadata": {},
   "source": [
    "1. What exactly is []?"
   ]
  },
  {
   "cell_type": "raw",
   "id": "508f632f-9f47-43a1-a6e0-f92039aaa4a7",
   "metadata": {},
   "source": [
    "Answer. [] is uses to define an empty list."
   ]
  },
  {
   "cell_type": "raw",
   "id": "449f4817-8af0-4d3f-9f53-98669d32f279",
   "metadata": {},
   "source": [
    "2. In a list of values stored in a variable called spam, how would you assign the value &#39;hello&#39; as the\n",
    "third value? (Assume [2, 4, 6, 8, 10] are in spam.)"
   ]
  },
  {
   "cell_type": "raw",
   "id": "930677e7-364c-4c32-9ab0-a5b905834c96",
   "metadata": {},
   "source": [
    "Aswer. In a list of values stored in a variable called spam, how would you assign the value &#39;hello&#39; as the\n",
    "third value? (Assume [2, 4, 6, 8, 10] are in spam.)"
   ]
  },
  {
   "cell_type": "raw",
   "id": "739182b5-7029-40d8-9314-32abfa758574",
   "metadata": {},
   "source": [
    "3. What is the value of spam[int(int('3'* 2) / 11)]?"
   ]
  },
  {
   "cell_type": "raw",
   "id": "987a50ba-f3ca-4600-a940-702c2d9e630a",
   "metadata": {},
   "source": [
    "Answer.d"
   ]
  },
  {
   "cell_type": "raw",
   "id": "02b2b888-5138-4e92-ad05-1e9d875c49e9",
   "metadata": {},
   "source": [
    "4. What is the value of spam[-1]?"
   ]
  },
  {
   "cell_type": "raw",
   "id": "0b7f1dd3-7167-4ae3-b99f-4651dde71edf",
   "metadata": {},
   "source": [
    "Answer. d"
   ]
  },
  {
   "cell_type": "raw",
   "id": "48f01b76-ee48-4e31-a277-ebd1e31a9a75",
   "metadata": {},
   "source": [
    "5. What is the value of spam[:2]?Let&#39;s pretend bacon has the list [3.14, &#39;cat,&#39; 11, &#39;cat,&#39; True] for the next three questions."
   ]
  },
  {
   "cell_type": "raw",
   "id": "3c3c9b19-5d6d-49c8-95ff-fb8eb1310d8d",
   "metadata": {},
   "source": [
    "Answer.['a','b']"
   ]
  },
  {
   "cell_type": "raw",
   "id": "32588069-9363-45da-b530-95a1c0667928",
   "metadata": {},
   "source": [
    "6. What is the value of bacon.index('cat')?"
   ]
  },
  {
   "cell_type": "raw",
   "id": "951c1e6a-c3f5-4453-8061-fa49f1d84f8b",
   "metadata": {},
   "source": [
    "Answer.1"
   ]
  },
  {
   "cell_type": "raw",
   "id": "0da9833b-9db9-4182-95ee-894a0cebb1c3",
   "metadata": {},
   "source": [
    "7. How does bacon.append(99) change the look of the list value in bacon?"
   ]
  },
  {
   "cell_type": "raw",
   "id": "d12381d4-ef31-4831-abb5-b6b3f874a248",
   "metadata": {},
   "source": [
    "Answer. 99 will be appended  at the end of the list."
   ]
  },
  {
   "cell_type": "raw",
   "id": "ea7c54ac-d78a-4e58-9798-705e3e338fcb",
   "metadata": {},
   "source": [
    "8. How does bacon.remove(&#39;cat&#39;) change the look of the list in bacon?"
   ]
  },
  {
   "cell_type": "raw",
   "id": "8416c241-c3bc-44a5-af24-1f51ef0c9e26",
   "metadata": {},
   "source": [
    "'cat' at index 1 will be removed. "
   ]
  },
  {
   "cell_type": "raw",
   "id": "a93bac7c-fc8e-4349-88f5-70e2a15fb6cb",
   "metadata": {},
   "source": [
    "9. What are the list concatenation and list replication operators?"
   ]
  },
  {
   "cell_type": "raw",
   "id": "41031ae3-403f-43f8-b570-5e04cf55a00d",
   "metadata": {},
   "source": [
    "+ can be used as list concatenation operation\n",
    "* can be used as list replication operation "
   ]
  },
  {
   "cell_type": "raw",
   "id": "bd265503-e6f8-4966-af3f-1a9f28cc13b3",
   "metadata": {},
   "source": [
    "10. What is difference between the list methods append() and insert()?"
   ]
  },
  {
   "cell_type": "raw",
   "id": "02c96adc-b7e6-4134-9f0b-05f0fdc48017",
   "metadata": {},
   "source": [
    "append() is used to add an element at the end of list \n",
    "insert() is usede to add/insert an element at a specifice index"
   ]
  },
  {
   "cell_type": "raw",
   "id": "5438c479-ecc8-436b-b9d4-85d0191c10ec",
   "metadata": {},
   "source": [
    "11. What are the two methods for removing items from a list?"
   ]
  },
  {
   "cell_type": "raw",
   "id": "882db023-33b3-46c3-ba60-19166327cbc8",
   "metadata": {},
   "source": [
    "remove() and pop() are two method for removing the items from a list"
   ]
  },
  {
   "cell_type": "raw",
   "id": "b360809d-8f36-4411-8b8a-6a48b41f307a",
   "metadata": {},
   "source": [
    "12. Describe how list values and string values are identical."
   ]
  },
  {
   "cell_type": "raw",
   "id": "86bff826-b64a-449f-ab63-32d5cacb69f0",
   "metadata": {},
   "source": [
    "list and string both are sequence data type.\n",
    "List is a collection of heterogenouis data element.Where string is a collection of characters.\n",
    "Elopements of both list and string can be accessed using index."
   ]
  },
  {
   "cell_type": "raw",
   "id": "b9b66653-862a-4969-acb5-9b8a55fd952d",
   "metadata": {},
   "source": [
    "13. What&#39;s the difference between tuples and lists?"
   ]
  },
  {
   "cell_type": "raw",
   "id": "10027266-016f-463e-a09a-fbe161cbe4a9",
   "metadata": {},
   "source": [
    "List is mutable and tuples are immutable."
   ]
  },
  {
   "cell_type": "raw",
   "id": "ad707f27-e104-457e-bb1a-31b7f7fb7244",
   "metadata": {},
   "source": [
    "14. How do you type a tuple value that only contains the integer 42?"
   ]
  },
  {
   "cell_type": "raw",
   "id": "afcafb7d-0be9-4874-b63a-a23bd80226c0",
   "metadata": {},
   "source": [
    "tuple = (42,)"
   ]
  },
  {
   "cell_type": "raw",
   "id": "71c5eb1d-e565-42b2-9856-854d78ba95dd",
   "metadata": {},
   "source": [
    "15. How do you get a list value&#39;s tuple form? How do you get a tuple value&#39;s list form?"
   ]
  },
  {
   "cell_type": "raw",
   "id": "fd760826-5ae3-446e-acf3-401f7e7a2b10",
   "metadata": {},
   "source": [
    "list() and tuples() are two bulit in function can used for these purpose.list() can convert any sequence data type to list . Similarly the tuple() function can convert sequence data type to tuple."
   ]
  },
  {
   "cell_type": "raw",
   "id": "a45e4741-4110-4641-8609-c48bd5e2b7cf",
   "metadata": {},
   "source": [
    "16. Variables that &quot;contain&quot; list values are not necessarily lists themselves. Instead, what do they\n",
    "contain?"
   ]
  },
  {
   "cell_type": "raw",
   "id": "e1244452-5327-421e-b93f-f42c97250b8a",
   "metadata": {},
   "source": [
    "Varibles will contain reference to list valuse rather than list valuse themselves."
   ]
  },
  {
   "cell_type": "raw",
   "id": "8721d2ef-5342-4d69-a9b7-235b14d4e066",
   "metadata": {},
   "source": [
    "17. How do you distinguish between copy.copy() and copy.deepcopy()?"
   ]
  },
  {
   "cell_type": "raw",
   "id": "b1dfa669-6e6b-4904-9720-98191ebc73af",
   "metadata": {},
   "source": [
    "A copy or shallow copy constructs a new compunds object and then(to the extent possible ) inserts references into it to the objects found in the original.\n",
    "A deep coipy constructs a new compounds object and then, recursively, insert copies into it of the objects found in the originals  "
   ]
  }
 ],
 "metadata": {
  "kernelspec": {
   "display_name": "Python 3 (ipykernel)",
   "language": "python",
   "name": "python3"
  },
  "language_info": {
   "codemirror_mode": {
    "name": "ipython",
    "version": 3
   },
   "file_extension": ".py",
   "mimetype": "text/x-python",
   "name": "python",
   "nbconvert_exporter": "python",
   "pygments_lexer": "ipython3",
   "version": "3.10.6"
  }
 },
 "nbformat": 4,
 "nbformat_minor": 5
}
