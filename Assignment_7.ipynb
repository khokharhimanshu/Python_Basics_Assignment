{
 "cells": [
  {
   "cell_type": "markdown",
   "id": "e76a9c41-9f2c-42ad-9a1f-4fff4b4d8298",
   "metadata": {},
   "source": [
    "# Assignment_7"
   ]
  },
  {
   "cell_type": "raw",
   "id": "3a8d23ac-9a6b-4d41-b515-85012dad6f7a",
   "metadata": {},
   "source": [
    "1. What is the name of the feature responsible for generating Regex objects?"
   ]
  },
  {
   "cell_type": "raw",
   "id": "97df926f-6764-487d-9d02-348b754af021",
   "metadata": {},
   "source": [
    "Ans: The re.compile() function returns Regex objects."
   ]
  },
  {
   "cell_type": "code",
   "execution_count": 3,
   "id": "ccaa3873-1be8-488f-b124-503817fd679b",
   "metadata": {},
   "outputs": [
    {
     "name": "stdout",
     "output_type": "stream",
     "text": [
      "re.compile('Himanshu khokhar')\n"
     ]
    }
   ],
   "source": [
    "import re\n",
    "x = re.compile(\"Himanshu khokhar\")\n",
    "print(x)"
   ]
  },
  {
   "cell_type": "raw",
   "id": "941d251e-b45b-4ec0-885a-97207e48a0a1",
   "metadata": {},
   "source": [
    "2. Why do raw strings often appear in Regex objects?"
   ]
  },
  {
   "cell_type": "raw",
   "id": "7acc6f78-3c83-4727-980d-1ac69314da20",
   "metadata": {},
   "source": [
    "Ans: Raw strings are used so that backslashes do not have to be escaped."
   ]
  },
  {
   "cell_type": "raw",
   "id": "1ef68cb4-f2c2-48fd-bb50-ed1b15649439",
   "metadata": {},
   "source": [
    "3. What is the return value of the search() method?"
   ]
  },
  {
   "cell_type": "raw",
   "id": "9efb4d30-cf91-42bf-a4ce-59a0da0e3751",
   "metadata": {},
   "source": [
    "Ans: The search() method returns Match objects."
   ]
  },
  {
   "cell_type": "code",
   "execution_count": 1,
   "id": "ab3a62a6-b291-4c7e-9eaa-1f8067532dc7",
   "metadata": {},
   "outputs": [
    {
     "name": "stdout",
     "output_type": "stream",
     "text": [
      "None\n"
     ]
    }
   ],
   "source": [
    "import re\n",
    "x = \"i am a good boy\"\n",
    "x = re.search(x,\"good\")\n",
    "print(x)"
   ]
  },
  {
   "cell_type": "raw",
   "id": "096a9bde-3e30-4146-90ce-7664026fd576",
   "metadata": {},
   "source": [
    "4. From a Match item, how do you get the actual strings that match the pattern?"
   ]
  },
  {
   "cell_type": "raw",
   "id": "4facd6fc-c23a-4682-9706-c1beb0ba8eff",
   "metadata": {},
   "source": [
    "Ans: The group() method returns strings of the matched text."
   ]
  },
  {
   "cell_type": "code",
   "execution_count": 4,
   "id": "67139387-b67c-491d-b0df-445a114c4c89",
   "metadata": {},
   "outputs": [
    {
     "data": {
      "text/plain": [
       "'himanshu'"
      ]
     },
     "execution_count": 4,
     "metadata": {},
     "output_type": "execute_result"
    }
   ],
   "source": [
    "import re\n",
    "x = \"Himanshu is good boy and himanshu is a good coder\"\n",
    "x = re.search(\"himanshu\",\"himanshu\")\n",
    "x.group()"
   ]
  },
  {
   "cell_type": "raw",
   "id": "557ba0a6-0d9a-4435-8c1a-826beff0843e",
   "metadata": {},
   "source": [
    "Q.5: In the regex which created from the r'(\\d\\d\\d)-(\\d\\d\\d-\\d\\d\\d\\d)', what does group zero cover? Group 2? Group 1?"
   ]
  },
  {
   "cell_type": "raw",
   "id": "1bf66f3a-8aa8-4612-a691-f2c1be180716",
   "metadata": {},
   "source": [
    "Ans: Group 0 is the entire match, group 1 covers the first set of parentheses, and group 2 covers the second set of parentheses."
   ]
  },
  {
   "cell_type": "raw",
   "id": "75ccfeb6-064b-466c-a193-b6c22a086db7",
   "metadata": {},
   "source": [
    "6. In standard expression syntax, parentheses and intervals have distinct meanings. How can you tell a regex that you want it to fit real parentheses and periods?"
   ]
  },
  {
   "cell_type": "raw",
   "id": "eb5b34f7-0fcf-4204-be1c-9fa24be8096c",
   "metadata": {},
   "source": [
    "Ans: Periods and parentheses can be escaped with a backslash: ., (, and ).\n",
    " The \\.. and escape characters in the raw string passed to re.compile() will match actual parenthesis characters."
   ]
  },
  {
   "cell_type": "raw",
   "id": "e160061a-d54b-47d2-963a-14c4e17cd917",
   "metadata": {},
   "source": [
    "7. The findall() method returns a string list or a list of string tuples. What causes it to return one of\n",
    "the two options?"
   ]
  },
  {
   "cell_type": "raw",
   "id": "3b677613-f5ef-440a-9a0a-6b9885797a13",
   "metadata": {},
   "source": [
    "Ans: If the regex has no groups, a list of strings is returned. If the regex has groups, a list of tuples of strings is returned."
   ]
  },
  {
   "cell_type": "raw",
   "id": "756ab9d9-79fc-42a7-be26-65acbddb02e4",
   "metadata": {},
   "source": [
    "8. In standard expressions, what does the | character mean?"
   ]
  },
  {
   "cell_type": "raw",
   "id": "b0afd1fc-284f-464a-81ad-1f457981ec52",
   "metadata": {},
   "source": [
    "Ans: The | character signifies matching “either, or” between two groups."
   ]
  },
  {
   "cell_type": "raw",
   "id": "69e026d5-e683-4a99-b2c6-09792df5188b",
   "metadata": {},
   "source": [
    "9. In regular expressions, what does the character stand for?"
   ]
  },
  {
   "cell_type": "raw",
   "id": "811eb9f5-eec4-4d28-9b29-ecbabdbf2f75",
   "metadata": {},
   "source": [
    "Ans: The ? character can either mean “match zero or one of the preceding group” or be used to signify nongreedy matching"
   ]
  },
  {
   "cell_type": "raw",
   "id": "0103cace-65ec-45e8-a2e3-bc3e0f4f00d3",
   "metadata": {},
   "source": [
    "10.In regular expressions, what is the difference between the + and * characters?"
   ]
  },
  {
   "cell_type": "raw",
   "id": "eca5ec48-c43c-4d6e-a4e4-c22649a98687",
   "metadata": {},
   "source": [
    "Ans: In Regular Expressions, * Represents Zero ore more occurances of the preceeding group, whereas + represents one or more occurances of the preceeding group."
   ]
  },
  {
   "cell_type": "raw",
   "id": "5356cae6-5f71-4f00-ac3a-1c71b7556d6b",
   "metadata": {},
   "source": [
    "11. What is the difference between {4} and {4,5} in regular expression?"
   ]
  },
  {
   "cell_type": "raw",
   "id": "c19d8c56-98e4-4f35-87aa-372ab913e455",
   "metadata": {},
   "source": [
    "Ans: The {4} matches exactly Four instances of the preceding group. The {4,5} matches between Four and five instances."
   ]
  },
  {
   "cell_type": "raw",
   "id": "5847f657-4181-48c0-b2e4-d811579f574f",
   "metadata": {},
   "source": [
    "12. What do you mean by the \\d, \\w, and \\s shorthand character classes signify in regular\n",
    "expressions?"
   ]
  },
  {
   "cell_type": "raw",
   "id": "6305244c-2133-44f3-ad3b-fc26022119db",
   "metadata": {},
   "source": [
    "Ans: The \\d, \\w, and \\s shorthand character classes match a single digit, word, or space character, respectively."
   ]
  },
  {
   "cell_type": "raw",
   "id": "8b221b31-f77c-4fa1-96d5-d8eb11ab1a5b",
   "metadata": {},
   "source": [
    "13. What do means by \\D, \\W, and \\S shorthand character classes signify in regular expressions?"
   ]
  },
  {
   "cell_type": "raw",
   "id": "3b166fa5-58ee-4439-af63-2172a5aec7ca",
   "metadata": {},
   "source": [
    "Ans: The \\D, \\W, and \\S shorthand character classes match a single character that is not a digit, word, or space character, respectively."
   ]
  },
  {
   "cell_type": "raw",
   "id": "29389aa6-79e8-4d70-8e42-8ab1a5bbad3b",
   "metadata": {},
   "source": [
    "14. What is the difference between .*? and .*?"
   ]
  },
  {
   "cell_type": "raw",
   "id": "742ca23b-daa4-4d0a-9752-0baeed1188d0",
   "metadata": {},
   "source": [
    "Ans: The .* performs a greedy match, and the .*? performs a nongreedy match."
   ]
  },
  {
   "cell_type": "raw",
   "id": "75bd7557-fc3d-43ca-a110-e06e19b91c86",
   "metadata": {},
   "source": [
    "15. What is the syntax for matching both numbers and lowercase letters with a character class?"
   ]
  },
  {
   "cell_type": "raw",
   "id": "18382008-30e4-40a2-a40c-a87ff7d033e6",
   "metadata": {},
   "source": [
    "Ans: Either [0-9a-z] or [a-z0-9]"
   ]
  },
  {
   "cell_type": "raw",
   "id": "20d39e9e-e1a7-45dd-a0f7-47ab922561e1",
   "metadata": {},
   "source": [
    "16. What is the procedure for making a normal expression in regax case insensitive?"
   ]
  },
  {
   "cell_type": "raw",
   "id": "19e27463-3f3f-405a-a17e-2fb49ca07d30",
   "metadata": {},
   "source": [
    "Ans: Passing re.I or re.IGNORECASE as the second argument to re.compile() will make the matching case insensitive."
   ]
  },
  {
   "cell_type": "raw",
   "id": "a827956b-28e5-424f-8b14-18b7b2246ff2",
   "metadata": {},
   "source": [
    "17. What does the . character normally match? What does it match if re.DOTALL is passed as 2nd\n",
    "argument in re.compile()?"
   ]
  },
  {
   "cell_type": "raw",
   "id": "ab0813c1-3da3-477c-b981-e79a91d623e7",
   "metadata": {},
   "source": [
    "Ans: The . character normally matches any character except the newline character. If re.DOTALL is passed as the second argument to re.compile(), then the dot will also match newline characters."
   ]
  },
  {
   "cell_type": "raw",
   "id": "e2b0ed4e-c0d2-43b9-b7e8-ff43a5786b35",
   "metadata": {},
   "source": [
    "18. If numReg = re.compile(r&#39;\\d+&#39;), what will numRegex.sub(&#39;X&#39;, &#39;11 drummers, 10 pipers, five rings, 4\n",
    "hen&#39;) return?"
   ]
  },
  {
   "cell_type": "raw",
   "id": "b4f9ea9f-48d0-46fd-85b4-fd161431991d",
   "metadata": {},
   "source": [
    "Ans: The re.VERBOSE argument allows you to add whitespace and comments to the string passed to re.compile().\\"
   ]
  },
  {
   "cell_type": "raw",
   "id": "dda96792-bab3-490d-a0ad-c729caf89878",
   "metadata": {},
   "source": [
    "19. What does passing re.VERBOSE as the 2nd argument to re.compile() allow to do?"
   ]
  },
  {
   "cell_type": "raw",
   "id": "4d1163e8-4163-4f44-9881-177a8023d4c0",
   "metadata": {},
   "source": [
    "Ans: re.VERBOSE will allow to add whitespace and comments to string passed to re.compile()."
   ]
  },
  {
   "cell_type": "raw",
   "id": "8718e4f7-d855-447d-b070-4ec8085881cb",
   "metadata": {},
   "source": [
    "Q.20: How would you write a regex that match a number with comma for every three digits? It must match the given following:\n",
    "\n",
    "'42'\n",
    "\n",
    "'1,234'\n",
    "\n",
    "'6,368,745'\n",
    "\n",
    "but not the following:\n",
    "\n",
    "'12,34,567' (which has only two digits between the commas)\n",
    "\n",
    "'1234' (which lacks commas)"
   ]
  },
  {
   "cell_type": "raw",
   "id": "ae95f7b6-327d-4493-8363-bf3a91334340",
   "metadata": {},
   "source": [
    "Ans: re.compile(r'^\\d{1,3}(,\\d{3})*$') will create this regex, but other regex strings can produce a similar regular expression."
   ]
  },
  {
   "cell_type": "raw",
   "id": "077634ef-bd31-4fe7-aba2-0252ed1104bf",
   "metadata": {},
   "source": [
    "Q.21: How would you write a regex that matches the full name of someone whose last name is Watanabe? You can assume that the first name that comes before it will always be one word that begins with a capital letter. The regex must match the following:\n",
    "\n",
    "'Haruto Watanabe'\n",
    "\n",
    "'Alice Watanabe'\n",
    "\n",
    "'RoboCop Watanabe'\n",
    "\n",
    "but not the following:\n",
    "\n",
    "'haruto Watanabe' (where the first name is not capitalized)\n",
    "\n",
    "'Mr. Watanabe' (where the preceding word has a nonletter character)\n",
    "\n",
    "'Watanabe' (which has no first name)\n",
    "\n",
    "'Haruto watanabe' (where Watanabe is not capitalized)"
   ]
  },
  {
   "cell_type": "raw",
   "id": "e267c905-3431-4322-b01f-b643c509e23c",
   "metadata": {},
   "source": [
    "Ans: re.compile(r'[A-Z][a-z]*\\sNakamoto')"
   ]
  },
  {
   "cell_type": "code",
   "execution_count": 5,
   "id": "0743ff78-852f-4c8a-933d-8428e0cf6a24",
   "metadata": {},
   "outputs": [
    {
     "name": "stdout",
     "output_type": "stream",
     "text": [
      "Output:  Haruto Watanabe -> <re.Match object; span=(0, 15), match='Haruto Watanabe'>\n",
      "Output:  Alice Watanabe -> <re.Match object; span=(0, 14), match='Alice Watanabe'>\n",
      "Output:  RoboCop Watanabe -> <re.Match object; span=(4, 16), match='Cop Watanabe'>\n",
      "Output:  haruto Watanabe -> None\n",
      "Output:  Mr. Watanabe -> None\n",
      "Output:  Watanabe -> None\n",
      "Output:  Haruto watanabe -> None\n"
     ]
    }
   ],
   "source": [
    "import re\n",
    "pattern = r'[A-Z]{1}[a-z]*\\sWatanabe'\n",
    "namex = re.compile(pattern)\n",
    "for name in ['Haruto Watanabe','Alice Watanabe','RoboCop Watanabe','haruto Watanabe','Mr. Watanabe','Watanabe','Haruto watanabe']:\n",
    "    print('Output: ',name,'->',namex.search(name))"
   ]
  },
  {
   "cell_type": "raw",
   "id": "d27cd148-c67c-41aa-8bfa-1821d31eb03b",
   "metadata": {},
   "source": [
    "Q.22: How would you write a regex that matches a sentence where the first word is either Alice, Bob, or Carol; the second word is either eats, pets, or throws; the third word is apples, cats, or baseballs; and the sentence ends with a period? This regex should be case-insensitive. It must match the following:\n",
    "\n",
    "'Alice eats apples.'\n",
    "\n",
    "'Bob pets cats.'\n",
    "\n",
    "'Carol throws baseballs.'\n",
    "\n",
    "'Alice throws Apples.'\n",
    "\n",
    "'BOB EATS CATS.'\n",
    "\n",
    "but not the following:\n",
    "\n",
    "'RoboCop eats apples.'\n",
    "\n",
    "'ALICE THROWS FOOTBALLS.'\n",
    "\n",
    "'Carol eats 7 cats.'"
   ]
  },
  {
   "cell_type": "raw",
   "id": "75ca4cb0-73fc-4f35-89a4-751b38f811b8",
   "metadata": {},
   "source": [
    "Ans: re.compile(r'(Alice|Bob|Carol)\\s(eats|pets|throws)\\s(apples|cats|baseballs).', re.IGNORECASE)"
   ]
  }
 ],
 "metadata": {
  "kernelspec": {
   "display_name": "Python 3 (ipykernel)",
   "language": "python",
   "name": "python3"
  },
  "language_info": {
   "codemirror_mode": {
    "name": "ipython",
    "version": 3
   },
   "file_extension": ".py",
   "mimetype": "text/x-python",
   "name": "python",
   "nbconvert_exporter": "python",
   "pygments_lexer": "ipython3",
   "version": "3.10.6"
  }
 },
 "nbformat": 4,
 "nbformat_minor": 5
}
