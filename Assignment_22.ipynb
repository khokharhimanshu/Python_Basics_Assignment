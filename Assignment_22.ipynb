{
 "cells": [
  {
   "cell_type": "markdown",
   "id": "8786bd3f-c34d-4889-ba15-1e878963dc5b",
   "metadata": {},
   "source": [
    "# Assignment 22"
   ]
  },
  {
   "cell_type": "raw",
   "id": "ee76280d-d005-4e07-8ebc-20bab629168c",
   "metadata": {},
   "source": [
    "1. What is the result of the code, and explain?\n",
    "X = 'iNeuron' def func(): print(X) func()"
   ]
  },
  {
   "cell_type": "raw",
   "id": "f57e0a3f-8bea-4a33-a9cc-0aa365b05e0c",
   "metadata": {},
   "source": [
    "Ans: The Result of this code is iNeuron, it's because the function intially looks for the variable X in its local scope,But since there is no local variable X, its returns the value of global variable x ie iNeuron"
   ]
  },
  {
   "cell_type": "code",
   "execution_count": 1,
   "id": "07495f01-453f-47ff-935f-533bde1e8117",
   "metadata": {},
   "outputs": [
    {
     "name": "stdout",
     "output_type": "stream",
     "text": [
      "iNeuron\n"
     ]
    }
   ],
   "source": [
    " X = 'iNeuron'\n",
    "def func():\n",
    "    print(X)\n",
    "func()"
   ]
  },
  {
   "cell_type": "raw",
   "id": "63a6d6c1-83a4-4236-84cf-d6c1edc85e15",
   "metadata": {},
   "source": [
    "2. What is the result of the code, and explain?\n",
    "X = 'iNeuron' def func(): X = 'NI!' func() print(X)"
   ]
  },
  {
   "cell_type": "raw",
   "id": "f16dcdc7-4c5d-4b46-8d51-a837a168e449",
   "metadata": {},
   "source": [
    "Ans: func() Call the function we defined, with \"NI\" as the value of X inside the funtion, but doesn't prints it, as there is no print statement inside the function. print(X), prints the value of X, which is \"iNeuron\", which is outside func()."
   ]
  },
  {
   "cell_type": "code",
   "execution_count": 2,
   "id": "f2ae4a07-14cc-4f37-b316-556361700aa2",
   "metadata": {},
   "outputs": [
    {
     "name": "stdout",
     "output_type": "stream",
     "text": [
      "NI!\n"
     ]
    }
   ],
   "source": [
    "X = 'iNeuron'\n",
    "def func():\n",
    "    X = 'NI!'\n",
    "    print(X)\n",
    "func()"
   ]
  },
  {
   "cell_type": "raw",
   "id": "8f58ae31-fe4c-4bca-aec4-1dd4d5b6c1d4",
   "metadata": {},
   "source": [
    "3. What does this code print, and why?\n",
    "X = 'iNeuron' def func(): X = 'NI' print(X) func() print(X)"
   ]
  },
  {
   "cell_type": "raw",
   "id": "e6ebc1e9-5661-4658-a141-dee72d8cb13a",
   "metadata": {},
   "source": [
    "Ans: The output of the code is NI and iNeuron. X=NI is in the local scope of the function func() hence the function prints the x value as NI. X = 'iNeuron' is in the global scope. hence print(X) prints output as iNeuron"
   ]
  },
  {
   "cell_type": "code",
   "execution_count": 3,
   "id": "491ff205-593a-4d11-988d-e366d966f227",
   "metadata": {},
   "outputs": [
    {
     "name": "stdout",
     "output_type": "stream",
     "text": [
      "NI\n",
      "iNeuron\n"
     ]
    }
   ],
   "source": [
    "X = 'iNeuron'\n",
    "def func():\n",
    "    X = 'NI'\n",
    "    print(X)\n",
    "func()\n",
    "print(X)"
   ]
  },
  {
   "cell_type": "raw",
   "id": "8fa7402d-f0e1-43a7-a102-2554c73066bb",
   "metadata": {},
   "source": [
    "4. What output does this code produce? Why?\n",
    "X = 'iNeuron' def func(): global X X = 'NI' func() print(X)"
   ]
  },
  {
   "cell_type": "raw",
   "id": "feb0d7dd-d7bd-4445-94e1-8067880b6332",
   "metadata": {},
   "source": [
    "Ans: The line, func() Call the function we defined, with \"NI\" as the value of X inside the funtion, but doesn't prints it, as there is no print statement inside the function, and we have used global keyword, which means, global keyword allows us to modify the variable, that is \"X\", outside of the current function.\n",
    "\n",
    "The line, print(X), prints the value of X, which is now \"NI\", as we used global keyword inside the function."
   ]
  },
  {
   "cell_type": "code",
   "execution_count": 4,
   "id": "29e8059d-4591-44cd-b845-7a1c9e43cfd3",
   "metadata": {},
   "outputs": [],
   "source": [
    "X = 'iNeuron'\n",
    "def func():\n",
    "    global X\n",
    "    X = \"NI\"\n",
    "func()"
   ]
  },
  {
   "cell_type": "code",
   "execution_count": 5,
   "id": "d1a16748-9f93-4eb6-b4a2-b3bbee148c0e",
   "metadata": {},
   "outputs": [
    {
     "name": "stdout",
     "output_type": "stream",
     "text": [
      "NI\n"
     ]
    }
   ],
   "source": [
    "print(X)"
   ]
  },
  {
   "cell_type": "code",
   "execution_count": null,
   "id": "d420bba3-509a-4dbf-b431-0b8b415b59fe",
   "metadata": {},
   "outputs": [],
   "source": []
  }
 ],
 "metadata": {
  "kernelspec": {
   "display_name": "Python 3 (ipykernel)",
   "language": "python",
   "name": "python3"
  },
  "language_info": {
   "codemirror_mode": {
    "name": "ipython",
    "version": 3
   },
   "file_extension": ".py",
   "mimetype": "text/x-python",
   "name": "python",
   "nbconvert_exporter": "python",
   "pygments_lexer": "ipython3",
   "version": "3.10.6"
  }
 },
 "nbformat": 4,
 "nbformat_minor": 5
}
