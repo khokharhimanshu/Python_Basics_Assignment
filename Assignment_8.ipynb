{
 "cells": [
  {
   "cell_type": "markdown",
   "id": "b6144e73-e910-45a7-9a58-55c9e252c528",
   "metadata": {},
   "source": [
    "# Assignment_8"
   ]
  },
  {
   "cell_type": "raw",
   "id": "1be99195-bb90-4a8d-8efe-c09cf124856e",
   "metadata": {},
   "source": [
    "1. Is the Python Standard Library included with PyInputPlus?"
   ]
  },
  {
   "cell_type": "raw",
   "id": "589e46e4-f050-4142-b004-9177b277fd93",
   "metadata": {},
   "source": [
    "Ans: PyInputPlus is not a part of the Python Standard Library, we must install it separately using Pip."
   ]
  },
  {
   "cell_type": "raw",
   "id": "dce15af1-6425-4fff-93d0-aced4ffb1081",
   "metadata": {},
   "source": [
    "2. Why is PyInputPlus commonly imported with import pyinputplus as pypi?"
   ]
  },
  {
   "cell_type": "raw",
   "id": "a4ece305-561e-45c4-ac24-c0b8fa529235",
   "metadata": {},
   "source": [
    "Ans: import the module with import pyinputplus as pyip so that you can enter a shorter name when calling the module’s functions"
   ]
  },
  {
   "cell_type": "raw",
   "id": "cddb716f-f04f-4060-9f3a-e208d649a29f",
   "metadata": {},
   "source": [
    "3. How do you distinguish between inputInt() and inputFloat()?"
   ]
  },
  {
   "cell_type": "raw",
   "id": "ae228ed6-32c7-4bbb-ac3f-94ef7be106e4",
   "metadata": {},
   "source": [
    "Ans: The difference is in the data-type when you use the first one the program expects an integer value as input but in the latter it expects a float value i.e number containing a decimal."
   ]
  },
  {
   "cell_type": "raw",
   "id": "f17d899e-ade2-48fb-ad5f-d984aa0d3e07",
   "metadata": {},
   "source": [
    "4. Using PyInputPlus, how do you ensure that the user enters a whole number between 0 and 99?"
   ]
  },
  {
   "cell_type": "raw",
   "id": "22fd9d56-b671-4a97-b397-3db564b84bdc",
   "metadata": {},
   "source": [
    "Ans: By using pyip.inputint(min=0, max=99)"
   ]
  },
  {
   "cell_type": "raw",
   "id": "4ad14134-ed2b-4f42-b67b-01a50e8c795b",
   "metadata": {},
   "source": [
    "5. What is transferred to the keyword arguments allowRegexes and blockRegexes?"
   ]
  },
  {
   "cell_type": "raw",
   "id": "c576e9dd-569f-4862-a0f3-fbce99b53bfa",
   "metadata": {},
   "source": [
    "Ans: we can use allowRegexes and blockRegexes keyword arguments to take list of regular expression strings to determine what the pyinputplus function will reject or accept valid input."
   ]
  },
  {
   "cell_type": "raw",
   "id": "22df8e69-7880-4ab1-aee4-633b9a733771",
   "metadata": {},
   "source": [
    "6. If a blank input is entered three times, what does inputStr(limit=3) do?"
   ]
  },
  {
   "cell_type": "raw",
   "id": "a33fa06c-fc6a-4046-aaf1-92c6db9ab955",
   "metadata": {},
   "source": []
  },
  {
   "cell_type": "raw",
   "id": "f5f53fe8-522e-4f57-a8c1-59965eff8928",
   "metadata": {},
   "source": []
  },
  {
   "cell_type": "raw",
   "id": "91525ace-fe0e-47b5-9a21-dfcb0238e50a",
   "metadata": {},
   "source": []
  },
  {
   "cell_type": "raw",
   "id": "d80f4f01-e2ab-462d-b3d0-06a6652d8349",
   "metadata": {},
   "source": []
  },
  {
   "cell_type": "raw",
   "id": "79adc744-2c65-4617-b566-187cddbc86dc",
   "metadata": {},
   "source": []
  },
  {
   "cell_type": "raw",
   "id": "e1b67148-69cc-4767-b34a-fb0610b97429",
   "metadata": {},
   "source": []
  },
  {
   "cell_type": "raw",
   "id": "76cccd7a-8bc7-4be1-b9f8-7eddae332e86",
   "metadata": {},
   "source": []
  },
  {
   "cell_type": "raw",
   "id": "61d84734-765f-4c8a-8038-ccbffd485267",
   "metadata": {},
   "source": []
  },
  {
   "cell_type": "raw",
   "id": "bb625b0d-9891-4a01-a6a6-a54550d951bd",
   "metadata": {},
   "source": []
  },
  {
   "cell_type": "raw",
   "id": "6c1baab5-76e1-4233-a35c-120043154e74",
   "metadata": {},
   "source": []
  },
  {
   "cell_type": "raw",
   "id": "8f8cf4bc-79bf-4f86-9fd0-dfdc5a8eb38e",
   "metadata": {},
   "source": []
  },
  {
   "cell_type": "raw",
   "id": "ae966ab4-5cdb-4dcd-8370-e00bef62da00",
   "metadata": {},
   "source": []
  },
  {
   "cell_type": "raw",
   "id": "6a961ea7-5ff5-4761-abb3-788671590d4e",
   "metadata": {},
   "source": []
  },
  {
   "cell_type": "raw",
   "id": "502277a0-b000-4f2f-bd66-34ae43bc6077",
   "metadata": {},
   "source": []
  },
  {
   "cell_type": "raw",
   "id": "c0f55b6b-8a3f-45ea-a394-c72248ca14d0",
   "metadata": {},
   "source": []
  },
  {
   "cell_type": "raw",
   "id": "03fc35da-784a-42b4-b1aa-6609461413d7",
   "metadata": {},
   "source": []
  },
  {
   "cell_type": "raw",
   "id": "a02f1d1a-df2a-48e6-a0b3-dac7a593723a",
   "metadata": {},
   "source": []
  },
  {
   "cell_type": "raw",
   "id": "6967c4db-d338-477c-bc08-1808859be3de",
   "metadata": {},
   "source": []
  },
  {
   "cell_type": "raw",
   "id": "97f4a9ec-e7c3-4ae4-8950-f8438561f0c6",
   "metadata": {},
   "source": []
  },
  {
   "cell_type": "raw",
   "id": "7dc99c6d-d0a4-412b-bca3-7b2b98f041d7",
   "metadata": {},
   "source": []
  },
  {
   "cell_type": "raw",
   "id": "c98a6c9b-5aa4-4edf-8a6e-379692d27f9a",
   "metadata": {},
   "source": []
  },
  {
   "cell_type": "raw",
   "id": "5e2a0cf4-b812-482a-a6b3-e935f8a51a75",
   "metadata": {},
   "source": []
  },
  {
   "cell_type": "raw",
   "id": "2d376a48-a919-43b4-8625-58b7e840038b",
   "metadata": {},
   "source": []
  },
  {
   "cell_type": "raw",
   "id": "191759dd-5418-44e4-978b-9f4e6c1ff834",
   "metadata": {},
   "source": []
  },
  {
   "cell_type": "raw",
   "id": "4d0620ef-7d9b-4c07-8420-6bccccf50cfa",
   "metadata": {},
   "source": []
  },
  {
   "cell_type": "raw",
   "id": "26d9d049-e817-46d6-af8e-7b08943e3939",
   "metadata": {},
   "source": []
  }
 ],
 "metadata": {
  "kernelspec": {
   "display_name": "Python 3 (ipykernel)",
   "language": "python",
   "name": "python3"
  },
  "language_info": {
   "codemirror_mode": {
    "name": "ipython",
    "version": 3
   },
   "file_extension": ".py",
   "mimetype": "text/x-python",
   "name": "python",
   "nbconvert_exporter": "python",
   "pygments_lexer": "ipython3",
   "version": "3.10.6"
  }
 },
 "nbformat": 4,
 "nbformat_minor": 5
}
