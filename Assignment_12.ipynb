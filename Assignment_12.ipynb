{
 "cells": [
  {
   "cell_type": "markdown",
   "id": "1fe19a13-4514-42a0-8432-7017dcb1fa19",
   "metadata": {},
   "source": [
    "# Assignment_12"
   ]
  },
  {
   "cell_type": "raw",
   "id": "3cc0d524-6ec8-4b1d-82d8-3254db055c3c",
   "metadata": {},
   "source": [
    "1. In what modes should the PdfFileReader() and PdfFileWriter() File objects will be opened?"
   ]
  },
  {
   "cell_type": "raw",
   "id": "bc05c582-be31-45c1-b6ef-28ce6980adc3",
   "metadata": {},
   "source": [
    "Ans: Read-binary ('rb') for PdfFileReader() and write-binary ('wb') for PdfFileWriter()"
   ]
  },
  {
   "cell_type": "raw",
   "id": "d4280884-614a-434b-8cf6-0ddc436e09be",
   "metadata": {},
   "source": [
    "2. From a PdfFileReader object, how do you get a Page object for page 5?"
   ]
  },
  {
   "cell_type": "raw",
   "id": "1bcbc2e8-79db-47fe-8029-406850fd4648",
   "metadata": {},
   "source": [
    "Ans: PdfFileReader class provides a method called getPage(page_no) to get a page object."
   ]
  },
  {
   "cell_type": "raw",
   "id": "c99e7b88-2d43-4255-955b-b17d66488ee9",
   "metadata": {},
   "source": [
    "4. If a PdfFileReader object’s PDF is encrypted with the password swordfish, what must you do\n",
    "before you can obtain Page objects from it?"
   ]
  },
  {
   "cell_type": "raw",
   "id": "264747d6-f187-4f3f-886c-c254bd9c4d1c",
   "metadata": {},
   "source": [
    "Ans: The numPages variable stores an integer of the number of pages in the PdfFileReader object."
   ]
  },
  {
   "cell_type": "raw",
   "id": "ba43670c-29c3-460d-b221-2952ea89e5cc",
   "metadata": {},
   "source": [
    "5. What methods do you use to rotate a page?"
   ]
  },
  {
   "cell_type": "raw",
   "id": "ead3c129-14dd-44d9-820b-71c54b750e24",
   "metadata": {},
   "source": [
    "Ans: The rotateClockwise() and rotateCounterClockwise() methods. The degrees to rotate is passed as an integer argument."
   ]
  },
  {
   "cell_type": "raw",
   "id": "6a2fa176-d636-4319-9c6e-db1013092d34",
   "metadata": {},
   "source": [
    "6. What is the difference between a Run object and a Paragraph object?"
   ]
  },
  {
   "cell_type": "raw",
   "id": "0ba12483-1b8a-4813-b310-4c4bf4b5dc44",
   "metadata": {},
   "source": [
    "Ans: A document contains multiple paragraphs. A paragraph begins on a new line and contains multiple runs. Runs are contiguous groups of characters within a paragraph."
   ]
  },
  {
   "cell_type": "raw",
   "id": "75c6fac8-a4eb-40e4-a40d-80e81a430805",
   "metadata": {},
   "source": [
    "7. How do you obtain a list of Paragraph objects for a Document object that’s stored in a variable\n",
    "named doc?"
   ]
  },
  {
   "cell_type": "raw",
   "id": "cff9fde1-46d7-4f09-963b-2b03340404aa",
   "metadata": {},
   "source": [
    "Ans: doc.paragraphs."
   ]
  },
  {
   "cell_type": "raw",
   "id": "6120b1cc-7795-463b-af40-d8cc416138b2",
   "metadata": {},
   "source": [
    "8. What type of object has bold, underline, italic, strike, and outline variables?"
   ]
  },
  {
   "cell_type": "raw",
   "id": "9bab23f3-4188-471d-b96d-0fc7bc6ae806",
   "metadata": {},
   "source": [
    "Ans: Run object has bold, underline, italic, strike, and outline variables. The text in a Word document is more than just a string. It has font, size, color, and other styling information associated with it."
   ]
  },
  {
   "cell_type": "raw",
   "id": "e07cc190-920b-4cbd-b7ab-0f6b16a18ab5",
   "metadata": {},
   "source": [
    "9. What is the difference between False, True, and None for the bold variable?"
   ]
  },
  {
   "cell_type": "raw",
   "id": "d4718823-7113-4c15-aa7a-29204ffafe86",
   "metadata": {},
   "source": [
    "Ans: True always makes the Run object bolded and False makes it always not bolded, no matter what the style’s bold setting is. None will make the Run object just use the style’s bold setting."
   ]
  },
  {
   "cell_type": "code",
   "execution_count": 1,
   "id": "918f90b4-37f1-4841-91e4-fa26f9511a6f",
   "metadata": {},
   "outputs": [],
   "source": [
    "bold = True  # Style Set to Bold\n",
    "bold = False # Style Not Set to Bold\n",
    "bold = None # Style is Not Applicable"
   ]
  },
  {
   "cell_type": "raw",
   "id": "5d36e35f-3dec-4bec-be91-21ec6a27a25c",
   "metadata": {},
   "source": [
    "10. How do you create a Document object for a new Word document?"
   ]
  },
  {
   "cell_type": "raw",
   "id": "59c20d9d-22fa-41bd-a7ab-3f0ad19ea81e",
   "metadata": {},
   "source": [
    "Ans: Call the docx.Document() function."
   ]
  },
  {
   "cell_type": "raw",
   "id": "510dad3e-7d01-433b-b43b-53a65af6201e",
   "metadata": {},
   "source": [
    "11. How do you add a paragraph with the text &#39;Hello, there!&#39; to a Document object stored in a\n",
    "variable named doc?"
   ]
  },
  {
   "cell_type": "raw",
   "id": "65e06340-5e78-4ee4-8c6f-d028b0fccf23",
   "metadata": {},
   "source": []
  }
 ],
 "metadata": {
  "kernelspec": {
   "display_name": "Python 3 (ipykernel)",
   "language": "python",
   "name": "python3"
  },
  "language_info": {
   "codemirror_mode": {
    "name": "ipython",
    "version": 3
   },
   "file_extension": ".py",
   "mimetype": "text/x-python",
   "name": "python",
   "nbconvert_exporter": "python",
   "pygments_lexer": "ipython3",
   "version": "3.10.6"
  }
 },
 "nbformat": 4,
 "nbformat_minor": 5
}
