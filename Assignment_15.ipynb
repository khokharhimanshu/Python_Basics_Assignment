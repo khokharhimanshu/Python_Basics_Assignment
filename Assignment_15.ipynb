{
 "cells": [
  {
   "cell_type": "markdown",
   "id": "6e08ab6b-ea15-4aa2-bae7-cea3dbcf0cfb",
   "metadata": {},
   "source": [
    "# Assignment_15"
   ]
  },
  {
   "cell_type": "raw",
   "id": "bbf97b18-de95-4c98-bc75-69e48dff5fdf",
   "metadata": {},
   "source": [
    "1.How many seconds are in an hour? Use the interactive interpreter as a calculator and multiply the\n",
    "number of seconds in a minute (60) by the number of minutes in an hour (also 60).\n",
    "sol. 60"
   ]
  },
  {
   "cell_type": "code",
   "execution_count": 1,
   "id": "0c252f6b-de27-4264-ac42-e4029c3c23eb",
   "metadata": {},
   "outputs": [
    {
     "data": {
      "text/plain": [
       "3600"
      ]
     },
     "execution_count": 1,
     "metadata": {},
     "output_type": "execute_result"
    }
   ],
   "source": [
    "60*60"
   ]
  },
  {
   "cell_type": "raw",
   "id": "a9f99db3-b2ad-41a5-94d8-cc08f0a8de85",
   "metadata": {},
   "source": [
    "2. Assign the result from the previous task (seconds in an hour) to a variable called\n",
    "seconds_per_hour."
   ]
  },
  {
   "cell_type": "code",
   "execution_count": 2,
   "id": "0811e5f3-4769-4ffa-98d5-5922f5337c74",
   "metadata": {},
   "outputs": [
    {
     "name": "stdout",
     "output_type": "stream",
     "text": [
      "3600\n"
     ]
    }
   ],
   "source": [
    "second_per_hour = 60*60\n",
    "print(second_per_hour)"
   ]
  },
  {
   "cell_type": "raw",
   "id": "89fc97b3-5319-4f71-8160-08c59e43bfa4",
   "metadata": {},
   "source": [
    "3. How many seconds do you think there are in a day? Make use of the variables seconds per hour\n",
    "and minutes per hour."
   ]
  },
  {
   "cell_type": "code",
   "execution_count": 3,
   "id": "08571070-5df7-4c11-a078-f3626650f052",
   "metadata": {},
   "outputs": [
    {
     "name": "stdout",
     "output_type": "stream",
     "text": [
      "86400\n"
     ]
    }
   ],
   "source": [
    "second_per_day = 24*60*60\n",
    "print(second_per_day)"
   ]
  },
  {
   "cell_type": "raw",
   "id": "1f6e49a8-3407-44a9-a4bf-afc60f157525",
   "metadata": {},
   "source": [
    "4. Calculate seconds per day again, but this time save the result in a variable called seconds_per_day"
   ]
  },
  {
   "cell_type": "raw",
   "id": "f0b0f822-71c5-470b-8ecc-94c6ead78e4b",
   "metadata": {},
   "source": [
    "ns: seconds_per_day = seconds_per_hour*24"
   ]
  },
  {
   "cell_type": "raw",
   "id": "0b51fe00-9e37-407b-bca1-cc5abee34ab5",
   "metadata": {},
   "source": [
    "5. Divide seconds_per_day by seconds_per_hour. Use floating-point (/) division."
   ]
  },
  {
   "cell_type": "code",
   "execution_count": 4,
   "id": "9ee06529-4907-4b84-995d-e6c086b82c2e",
   "metadata": {},
   "outputs": [
    {
     "name": "stdout",
     "output_type": "stream",
     "text": [
      "24.0\n"
     ]
    }
   ],
   "source": [
    "print(second_per_day/second_per_hour)"
   ]
  },
  {
   "cell_type": "raw",
   "id": "96fd3164-c5b4-41b4-bb6a-d1fbedfcaa47",
   "metadata": {},
   "source": [
    "6. Divide seconds_per_day by seconds_per_hour, using integer (//) division. Did this number agree\n",
    "with the floating-point value from the previous question, aside from the final .0?"
   ]
  },
  {
   "cell_type": "code",
   "execution_count": 5,
   "id": "b948110b-70fa-4d7e-b015-36bb8df0d4ba",
   "metadata": {},
   "outputs": [
    {
     "name": "stdout",
     "output_type": "stream",
     "text": [
      "24\n"
     ]
    }
   ],
   "source": [
    "print(second_per_day//second_per_hour)"
   ]
  },
  {
   "cell_type": "raw",
   "id": "ddaec5af-fc40-4f34-8ee1-4e74a1b359de",
   "metadata": {},
   "source": [
    "7. Write a generator, genPrimes, that returns the sequence of prime numbers on successive calls to\n",
    "its next() method: 2, 3, 5, 7, 11, ..."
   ]
  },
  {
   "cell_type": "code",
   "execution_count": null,
   "id": "0532f779-0191-4e68-8e79-c190e2e3f937",
   "metadata": {},
   "outputs": [],
   "source": [
    "def genPrime():\n",
    "    n = 0\n",
    "    while True:\n",
    "        if n == 2 or n == 3 :\n",
    "            yield n\n",
    "        elif ((n-1)%6 == 0 or (n+1)%6 == 0) and n !=1:\n",
    "            yield n\n",
    "        n = n+1\n",
    "        \n",
    "output = genPrime()\n",
    "for ele in range(5):\n",
    "    print(next(output))\n",
    "    "
   ]
  },
  {
   "cell_type": "code",
   "execution_count": null,
   "id": "78da596d-c918-4bf2-9c36-91663f28eceb",
   "metadata": {},
   "outputs": [],
   "source": [
    "\n",
    "def genPrimes():\n",
    "    \n",
    "    primes = [ 2, 3, 5, 7, 11 ]\n",
    "    \n",
    "    def isPrimeNumber(n):\n",
    "        if n in primes:\n",
    "            return True\n",
    "        \n",
    "        for elem in primes:\n",
    "            if n % elem == 0:\n",
    "                return False\n",
    "                \n",
    "        primes.append(n)\n",
    "        return True\n",
    "    num = 1\n",
    "    while True:\n",
    "        num += 1\n",
    "        if isPrimeNumber(num):\n",
    "            next = num\n",
    "            yield next\n",
    "            num = next\n",
    "primeNumber = genPrimes()\n",
    "\n",
    "for i in range(189):\n",
    "    print(primeNumber.__next__())"
   ]
  },
  {
   "cell_type": "raw",
   "id": "179dbf85-5ffd-41a3-b681-c71125e31b21",
   "metadata": {},
   "source": []
  },
  {
   "cell_type": "raw",
   "id": "70c4231a-13cc-4945-a226-31066524f6f0",
   "metadata": {},
   "source": []
  },
  {
   "cell_type": "raw",
   "id": "ee2bb5a0-a118-4257-932d-bd0b1c9ea5f1",
   "metadata": {},
   "source": []
  }
 ],
 "metadata": {
  "kernelspec": {
   "display_name": "Python 3 (ipykernel)",
   "language": "python",
   "name": "python3"
  },
  "language_info": {
   "codemirror_mode": {
    "name": "ipython",
    "version": 3
   },
   "file_extension": ".py",
   "mimetype": "text/x-python",
   "name": "python",
   "nbconvert_exporter": "python",
   "pygments_lexer": "ipython3",
   "version": "3.10.6"
  }
 },
 "nbformat": 4,
 "nbformat_minor": 5
}
