{
 "cells": [
  {
   "cell_type": "markdown",
   "id": "2523d78a-2e7d-45ee-9575-c1a4cc0a0226",
   "metadata": {},
   "source": [
    "# Assignment_5"
   ]
  },
  {
   "cell_type": "raw",
   "id": "14f83350-1153-4580-b7db-2c0a7c78b141",
   "metadata": {},
   "source": [
    "1. What does an empty dictionary's code look like?"
   ]
  },
  {
   "cell_type": "raw",
   "id": "8b4f8d46-f998-4e90-a719-5abe9605e0e5",
   "metadata": {},
   "source": [
    "d = {}"
   ]
  },
  {
   "cell_type": "raw",
   "id": "1b806da2-0db5-4000-bce3-e3dc2a37b298",
   "metadata": {},
   "source": [
    "2. What is the value of a dictionary value with the key 'foo' and the value 42?"
   ]
  },
  {
   "cell_type": "raw",
   "id": "3a9018aa-2ea0-4f33-8c53-52d3bd6c06dc",
   "metadata": {},
   "source": [
    "{'foo',4}"
   ]
  },
  {
   "cell_type": "raw",
   "id": "082bfd83-3fd0-4dfe-be4d-0ce2f7725db4",
   "metadata": {},
   "source": [
    "3. What is the most significant distinction between a dictionary and a list?"
   ]
  },
  {
   "cell_type": "raw",
   "id": "9bf29ca3-b696-4462-9bd5-8b5e5fde0c01",
   "metadata": {},
   "source": [
    "In python list isa collection of index, value pair . Where as Dicionary is a collection of of key,valuye pairs."
   ]
  },
  {
   "cell_type": "raw",
   "id": "795f2c72-50d6-40bd-a872-31a0a8785556",
   "metadata": {},
   "source": [
    "4. What happens if you try to access spam['foo'] if spam is {'bar': 100}?"
   ]
  },
  {
   "cell_type": "raw",
   "id": "8d31c8c8-f4dc-4d33-b849-1a7d78184ec8",
   "metadata": {},
   "source": [
    "The programs will give a KeyError"
   ]
  },
  {
   "cell_type": "raw",
   "id": "7103142e-7159-42e5-a0fd-aa8c27183ea3",
   "metadata": {},
   "source": [
    "5. If a dictionary is stored in spam, what is the difference between the expressions 'cat' in spam and'cat' in spam.keys()?"
   ]
  },
  {
   "cell_type": "raw",
   "id": "3e1e360a-fb6e-40ab-8695-cc0d31514118",
   "metadata": {},
   "source": [
    "There is no difference . The in operator check whether a value exists as a key in the dictionary."
   ]
  },
  {
   "cell_type": "raw",
   "id": "2f312279-6315-48ea-83b9-a9b0b050d6d3",
   "metadata": {},
   "source": [
    "6. If a dictionary is stored in spam, what is the difference between the expressions 'cat' in spam and 'cat' in spam.values()?"
   ]
  },
  {
   "cell_type": "raw",
   "id": "7d2b3662-2f86-49d5-8730-c68ac1463ab8",
   "metadata": {},
   "source": [
    "'cat' in spam check whether is a 'cat' key in the dictionary, while 'cat' in spam,value() check whether there is a value 'cat' for one of the keys in spam."
   ]
  },
  {
   "cell_type": "raw",
   "id": "ea7c70f5-3d1d-4495-9846-636cf25e070e",
   "metadata": {},
   "source": [
    "7. What is a shortcut for the following code?\n",
    "if 'color' not in spam:\n",
    "spam['color'] = 'black'"
   ]
  },
  {
   "cell_type": "raw",
   "id": "b6416bed-8b62-4dc1-a722-91cb1d4b885b",
   "metadata": {},
   "source": [
    "spam.setdefault('color','black')"
   ]
  },
  {
   "cell_type": "raw",
   "id": "e0954d06-11a4-4cc1-8dec-439c8f774029",
   "metadata": {},
   "source": [
    "8. How do you \"pretty print\" dictionary values using which module and function?"
   ]
  },
  {
   "cell_type": "raw",
   "id": "750d27b2-fc54-4340-804e-bd8588d65d4f",
   "metadata": {},
   "source": [
    "The module is pprint.\n",
    "The function are pprint./pp"
   ]
  }
 ],
 "metadata": {
  "kernelspec": {
   "display_name": "Python 3 (ipykernel)",
   "language": "python",
   "name": "python3"
  },
  "language_info": {
   "codemirror_mode": {
    "name": "ipython",
    "version": 3
   },
   "file_extension": ".py",
   "mimetype": "text/x-python",
   "name": "python",
   "nbconvert_exporter": "python",
   "pygments_lexer": "ipython3",
   "version": "3.10.6"
  }
 },
 "nbformat": 4,
 "nbformat_minor": 5
}
