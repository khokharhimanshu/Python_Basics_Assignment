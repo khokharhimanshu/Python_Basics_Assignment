{
 "cells": [
  {
   "cell_type": "markdown",
   "id": "cc71d1b5-175f-4676-9ff4-23f753bb4ea0",
   "metadata": {},
   "source": [
    "# Assignment_17"
   ]
  },
  {
   "cell_type": "raw",
   "id": "c4bfa00a-0729-4375-b2b0-1f80ee0ee428",
   "metadata": {},
   "source": [
    "1. Assign the value 7 to the variable guess_me. Then, write the conditional tests (if, else, and elif) to\n",
    "print the string &#39;too low&#39; if guess_me is less than 7, &#39;too high&#39; if greater than 7, and &#39;just right&#39; if equal\n",
    "to 7."
   ]
  },
  {
   "cell_type": "code",
   "execution_count": 1,
   "id": "e55128dc-4029-4468-bc9e-5f41816b3029",
   "metadata": {},
   "outputs": [
    {
     "name": "stdout",
     "output_type": "stream",
     "text": [
      "just right\n"
     ]
    }
   ],
   "source": [
    "guess_me = 7\n",
    "if guess_me < 7:\n",
    " print('too low')\n",
    "elif guess_me > 7:\n",
    " print('too high')\n",
    "else:\n",
    " print('just right')"
   ]
  },
  {
   "cell_type": "raw",
   "id": "f695defe-bdb8-4260-8c01-3d792d3d8251",
   "metadata": {},
   "source": [
    "2. Assign the value 7 to the variable guess_me and the value 1 to the variable start. Write a while\n",
    "loop that compares start with guess_me. Print too low if start is less than guess me. If start equals\n",
    "guess_me, print &#39;found it!&#39; and exit the loop. If start is greater than guess_me, print &#39;oops&#39; and exit\n",
    "the loop. Increment start at the end of the loop."
   ]
  },
  {
   "cell_type": "code",
   "execution_count": 2,
   "id": "07bfdab6-2d0f-47b2-bc00-e7ad5737426d",
   "metadata": {},
   "outputs": [
    {
     "name": "stdin",
     "output_type": "stream",
     "text": [
      "enter number:  7\n"
     ]
    },
    {
     "name": "stdout",
     "output_type": "stream",
     "text": [
      "Too Low\n",
      "Too Low\n",
      "Too Low\n",
      "Too Low\n",
      "Too Low\n",
      "Too Low\n",
      "Found It!\n"
     ]
    }
   ],
   "source": [
    "guess_me = int(input(\"enter number: \"))\n",
    "start = 1\n",
    "\n",
    "while True:\n",
    "    if start < guess_me:\n",
    "        print(\"Too Low\")\n",
    "        \n",
    "    elif start == guess_me:\n",
    "        print(\"Found It!\")\n",
    "        break\n",
    "    else:\n",
    "        print(\"OOPS\")\n",
    "        break\n",
    "    start = start+1"
   ]
  },
  {
   "cell_type": "raw",
   "id": "05d87a39-b5c5-44e4-9db8-4e8985052e1b",
   "metadata": {},
   "source": [
    "3. Print the following values of the list [3, 2, 1, 0] using a for loop."
   ]
  },
  {
   "cell_type": "code",
   "execution_count": 3,
   "id": "62b37aa5-ffb6-4296-88ff-8e3225b7cb72",
   "metadata": {},
   "outputs": [
    {
     "name": "stdout",
     "output_type": "stream",
     "text": [
      "3\n",
      "2\n",
      "1\n",
      "0\n"
     ]
    }
   ],
   "source": [
    "lst = [3,2,1,0]\n",
    "for value in lst:\n",
    "    print(value)"
   ]
  },
  {
   "cell_type": "raw",
   "id": "e86fe659-04f7-4dba-a909-865077c261cd",
   "metadata": {},
   "source": [
    "4. Use a list comprehension to make a list of the even numbers in range(10)"
   ]
  },
  {
   "cell_type": "code",
   "execution_count": 4,
   "id": "9b84b5b0-5a86-439f-841f-547a41f515a7",
   "metadata": {},
   "outputs": [
    {
     "name": "stdout",
     "output_type": "stream",
     "text": [
      "[0, 2, 4, 6, 8, 10]\n"
     ]
    }
   ],
   "source": [
    "print([x for x in range(10+1) if x%2 == 0])"
   ]
  },
  {
   "cell_type": "raw",
   "id": "d37b0b11-3e44-439c-9474-9713d65c342f",
   "metadata": {},
   "source": [
    "5. Use a dictionary comprehension to create the dictionary squares. Use range(10) to return the\n",
    "keys, and use the square of each key as its value."
   ]
  },
  {
   "cell_type": "code",
   "execution_count": 5,
   "id": "22fe2532-6040-44b1-8695-601313d05a02",
   "metadata": {},
   "outputs": [
    {
     "data": {
      "text/plain": [
       "{0: 0, 1: 1, 2: 4, 3: 9, 4: 16, 5: 25, 6: 36, 7: 49, 8: 64, 9: 81}"
      ]
     },
     "execution_count": 5,
     "metadata": {},
     "output_type": "execute_result"
    }
   ],
   "source": [
    "squares = {key: key*key for key in range(10)}\n",
    "squares "
   ]
  },
  {
   "cell_type": "raw",
   "id": "294a118f-4a8e-41f4-8e25-fffad786e972",
   "metadata": {},
   "source": [
    "6. Construct the set odd from the odd numbers in the range using a set comprehension (10)."
   ]
  },
  {
   "cell_type": "code",
   "execution_count": 6,
   "id": "c23ead1e-9659-4859-a8f2-c36c79e8c8da",
   "metadata": {},
   "outputs": [
    {
     "name": "stdout",
     "output_type": "stream",
     "text": [
      "{1, 3, 5, 7, 9}\n"
     ]
    }
   ],
   "source": [
    "odd = {number for number in range(10) if number % 2 == 1}\n",
    "print(odd)"
   ]
  },
  {
   "cell_type": "raw",
   "id": "06762048-271d-4fad-ad83-01883bfba0ca",
   "metadata": {},
   "source": [
    "7. Use a generator comprehension to return the string &#39;Got &#39; and a number for the numbers in\n",
    "range(10). Iterate through this by using a for loop."
   ]
  },
  {
   "cell_type": "code",
   "execution_count": 7,
   "id": "e4457b5f-a531-4e05-b293-613c1f7bf8ec",
   "metadata": {},
   "outputs": [
    {
     "name": "stdout",
     "output_type": "stream",
     "text": [
      "Got 0\n",
      "Got 1\n",
      "Got 2\n",
      "Got 3\n",
      "Got 4\n",
      "Got 5\n",
      "Got 6\n",
      "Got 7\n",
      "Got 8\n",
      "Got 9\n"
     ]
    }
   ],
   "source": [
    "for thing in ('Got %s' % number for number in range(10)):\n",
    "    print(thing)"
   ]
  },
  {
   "cell_type": "raw",
   "id": "feee9134-31b8-41cf-98bc-85b0abb70ffd",
   "metadata": {},
   "source": [
    "8. Define a function called good that returns the list [&#39;Harry&#39;, &#39;Ron&#39;, &#39;Hermione&#39;]."
   ]
  },
  {
   "cell_type": "code",
   "execution_count": 8,
   "id": "71e5b1dd-b42f-4753-a4a7-da401c05786a",
   "metadata": {},
   "outputs": [
    {
     "data": {
      "text/plain": [
       "['Harry', 'Ron', 'Hermione']"
      ]
     },
     "execution_count": 8,
     "metadata": {},
     "output_type": "execute_result"
    }
   ],
   "source": [
    "def good():\n",
    "    return ['Harry', 'Ron', 'Hermione']\n",
    "good()"
   ]
  },
  {
   "cell_type": "raw",
   "id": "76af15c4-4095-46a4-b676-1e7bde515b0d",
   "metadata": {},
   "source": [
    "9. Define a generator function called get_odds that returns the odd numbers from range(10). Use a\n",
    "for loop to find and print the third value returned."
   ]
  },
  {
   "cell_type": "code",
   "execution_count": 9,
   "id": "a7353bad-4d7d-4b36-910f-be089750d1dc",
   "metadata": {},
   "outputs": [
    {
     "data": {
      "text/plain": [
       "5"
      ]
     },
     "execution_count": 9,
     "metadata": {},
     "output_type": "execute_result"
    }
   ],
   "source": [
    "def get_odd():\n",
    "    output = []\n",
    "    for i in range(10):\n",
    "        if i%2 != 0:\n",
    "            output.append(i)\n",
    "    yield output\n",
    "    \n",
    "next(get_odd())[2]"
   ]
  },
  {
   "cell_type": "raw",
   "id": "25b4a119-9285-4f7d-8510-94244449420c",
   "metadata": {},
   "source": [
    "10. Define an exception called OopsException. Raise this exception to see what happens. Then write\n",
    "the code to catch this exception and print &#39;Caught an oops&#39;."
   ]
  },
  {
   "cell_type": "code",
   "execution_count": 10,
   "id": "5074ed80-4031-4933-a225-34ba0cc00df3",
   "metadata": {},
   "outputs": [
    {
     "name": "stdout",
     "output_type": "stream",
     "text": [
      "Caught an Oops name 'yash' is not defined\n"
     ]
    }
   ],
   "source": [
    "class OopsException(Exception):\n",
    "    pass\n",
    "\n",
    "def test(input):\n",
    "    if input <0:\n",
    "        raise OopsException(yash)\n",
    "try:\n",
    "    test(-100)\n",
    "except Exception as e:\n",
    "    print(\"Caught an Oops\",e)"
   ]
  },
  {
   "cell_type": "raw",
   "id": "f93e6228-7fa9-4dc9-8719-ef791ecce695",
   "metadata": {},
   "source": [
    "11. Use zip() to make a dictionary called movies that pairs these lists: titles Creature of Habit,Crewel Fate'] and plots = ['A nun turns into a monster','A haunted yarn shop']."
   ]
  },
  {
   "cell_type": "raw",
   "id": "4c208dc2-a529-41fd-8e56-6a0884de832e",
   "metadata": {},
   "source": []
  },
  {
   "cell_type": "raw",
   "id": "54b2ed58-b526-46de-8426-e89053964a1f",
   "metadata": {},
   "source": []
  },
  {
   "cell_type": "raw",
   "id": "ddaed06d-bffa-4264-ab08-06d02f797d34",
   "metadata": {},
   "source": []
  },
  {
   "cell_type": "raw",
   "id": "4d99174b-ba4f-4f4e-9577-ba07bf5a44db",
   "metadata": {},
   "source": []
  },
  {
   "cell_type": "raw",
   "id": "af0495c7-aec0-434e-8122-5577ca1f2d86",
   "metadata": {},
   "source": []
  }
 ],
 "metadata": {
  "kernelspec": {
   "display_name": "Python 3 (ipykernel)",
   "language": "python",
   "name": "python3"
  },
  "language_info": {
   "codemirror_mode": {
    "name": "ipython",
    "version": 3
   },
   "file_extension": ".py",
   "mimetype": "text/x-python",
   "name": "python",
   "nbconvert_exporter": "python",
   "pygments_lexer": "ipython3",
   "version": "3.10.6"
  }
 },
 "nbformat": 4,
 "nbformat_minor": 5
}
