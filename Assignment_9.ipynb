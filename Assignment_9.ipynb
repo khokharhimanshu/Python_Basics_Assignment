{
 "cells": [
  {
   "cell_type": "markdown",
   "id": "081c4a72-e03d-4a42-84ec-34848a281ef5",
   "metadata": {},
   "source": [
    "# Assignment_9"
   ]
  },
  {
   "cell_type": "raw",
   "id": "bea260b6-6ef7-4e03-838a-68bd6039bfb7",
   "metadata": {},
   "source": [
    "1. To what does a relative path refer?"
   ]
  },
  {
   "cell_type": "raw",
   "id": "b191b090-84ef-4ba0-b27e-af28bd2ac399",
   "metadata": {},
   "source": [
    "Ans: Relative paths are relative to the current working directory."
   ]
  },
  {
   "cell_type": "raw",
   "id": "8f9c8aa5-f590-45f6-8854-9bf9a7615c29",
   "metadata": {},
   "source": [
    "2. What does an absolute path start with your operating system?"
   ]
  },
  {
   "cell_type": "raw",
   "id": "aec08cfe-aaab-4c62-ba5e-458c814a4196",
   "metadata": {},
   "source": [
    "Ans: Absolute paths start with the root folder, such as / or C:."
   ]
  },
  {
   "cell_type": "raw",
   "id": "9b6706c8-b5d6-4915-9265-b82946ab204a",
   "metadata": {},
   "source": [
    "3. What do the functions os.getcwd() and os.chdir() do?"
   ]
  },
  {
   "cell_type": "raw",
   "id": "49ccb290-aa09-48de-80b0-22d51d008b3b",
   "metadata": {},
   "source": [
    "Ans: The os.getcwd() function returns the current working directory. The os.chdir() function changes the current working directory."
   ]
  },
  {
   "cell_type": "raw",
   "id": "b9397ec7-9692-483f-bc35-8f3e0009a7ed",
   "metadata": {},
   "source": [
    "4. What are the . and .. folders?"
   ]
  },
  {
   "cell_type": "raw",
   "id": "ebaf8c76-d983-4992-8dcb-ee687a5ca204",
   "metadata": {},
   "source": [
    "Ans: . Represents the Current Directory Whereas .. Represents the Parent Directory of the Current Directory"
   ]
  },
  {
   "cell_type": "raw",
   "id": "a1c53bd2-484e-4ffb-84d4-3eac753239a0",
   "metadata": {},
   "source": [
    "5. In C:\\bacon\\eggs\\spam.txt, which part is the dir name, and which part is the base name?"
   ]
  },
  {
   "cell_type": "raw",
   "id": "c9503344-2f16-4964-aa29-7e0ec2f862fb",
   "metadata": {},
   "source": [
    "Ans: C:\\bacon\\eggs is the dir name, while spam.txt is the base name."
   ]
  },
  {
   "cell_type": "raw",
   "id": "5b0323db-40d6-48c1-9c4c-e2beb7a5fa66",
   "metadata": {},
   "source": [
    "6. What are the three “mode” arguments that can be passed to the open() function?"
   ]
  },
  {
   "cell_type": "raw",
   "id": "6801e0af-5f9c-4d18-bdb2-023c13d42612",
   "metadata": {},
   "source": [
    "Ans: The string 'r' for read mode, 'w' for write mode, and 'a' for append mode."
   ]
  },
  {
   "cell_type": "raw",
   "id": "5626f257-3cb8-43ac-babb-224afda34493",
   "metadata": {},
   "source": [
    "7. What happens if an existing file is opened in write mode?"
   ]
  },
  {
   "cell_type": "raw",
   "id": "e7a2f507-ff0a-4248-ac61-b65d7321daa3",
   "metadata": {},
   "source": [
    "Ans: Using this mode will overwrite any existing content in a file. If the given file does not exist, a new one will be created."
   ]
  },
  {
   "cell_type": "raw",
   "id": "3cd8ce84-2e31-492c-a530-5001868cee37",
   "metadata": {},
   "source": [
    "8. How do you tell the difference between read() and readlines()?"
   ]
  },
  {
   "cell_type": "raw",
   "id": "660dc5f0-0eba-43e4-9607-1c1b6373a013",
   "metadata": {},
   "source": [
    "Ans: The read() method returns the file’s entire contents as a single string value. The readlines() method returns a list of strings, where each string is a line from the file’s contents."
   ]
  },
  {
   "cell_type": "code",
   "execution_count": null,
   "id": "bbbb2aea-ef56-4f90-a2be-fae9fa681612",
   "metadata": {},
   "outputs": [],
   "source": [
    "9. What data structure does a shelf value resemble?"
   ]
  },
  {
   "cell_type": "raw",
   "id": "49470955-4563-45c7-8e48-e4bfa2cf7e27",
   "metadata": {},
   "source": [
    "Ans: it contains key and values it represents dictionary."
   ]
  }
 ],
 "metadata": {
  "kernelspec": {
   "display_name": "Python 3 (ipykernel)",
   "language": "python",
   "name": "python3"
  },
  "language_info": {
   "codemirror_mode": {
    "name": "ipython",
    "version": 3
   },
   "file_extension": ".py",
   "mimetype": "text/x-python",
   "name": "python",
   "nbconvert_exporter": "python",
   "pygments_lexer": "ipython3",
   "version": "3.10.6"
  }
 },
 "nbformat": 4,
 "nbformat_minor": 5
}
