{
 "cells": [
  {
   "cell_type": "markdown",
   "id": "fd3f3a5c-6e18-4945-9823-c2b0d5a5a3c4",
   "metadata": {},
   "source": [
    "# Assignment_14"
   ]
  },
  {
   "cell_type": "raw",
   "id": "a23135ca-c2fe-47db-a73f-1d45c5c8a73c",
   "metadata": {},
   "source": [
    "1. What advantages do Excel spreadsheets have over CSV spreadsheets?"
   ]
  },
  {
   "cell_type": "raw",
   "id": "10ffac7a-fd22-44e4-83fd-3fff95428f9f",
   "metadata": {},
   "source": [
    "Ans: The Advantages of Excel over CSV are:\n",
    "1.Excel (XLS and XLSX) file formats are better for storing and analysing complex data. 2.An Excel not only stores data but can also do operations on the data using macros, formulas etc 3.CSV files are plain-text files, Does not contain formatting, formulas, macros, etc. It is also known as flat files"
   ]
  },
  {
   "cell_type": "raw",
   "id": "778001ec-9e2d-418e-8693-60e38cc984c7",
   "metadata": {},
   "source": [
    "2.What do you pass to csv.reader() and csv.writer() to create reader and writer objects?"
   ]
  },
  {
   "cell_type": "raw",
   "id": "eac7efd6-7a88-49c4-bee6-29da2bcedcf1",
   "metadata": {},
   "source": [
    "Ans: You pass a File object, obtained from a call to open()."
   ]
  },
  {
   "cell_type": "raw",
   "id": "f56d81d3-d577-41f4-9e58-2fe55665a69c",
   "metadata": {},
   "source": [
    "3. What modes do File objects for reader and writer objects need to be opened in?"
   ]
  },
  {
   "cell_type": "raw",
   "id": "cdca10d4-5f1d-4dd2-bd37-79314e1c426e",
   "metadata": {},
   "source": [
    "Ans: File objects need to be opened in read-binary ('rb') for Reader objects and write-binary ('wb') for Writer objects."
   ]
  },
  {
   "cell_type": "raw",
   "id": "3b9071d3-178e-45f6-b873-25ba0548d98a",
   "metadata": {},
   "source": [
    "4. What method takes a list argument and writes it to a CSV file?"
   ]
  },
  {
   "cell_type": "raw",
   "id": "03c2e226-637e-4034-a3f5-1dc634d149f7",
   "metadata": {},
   "source": [
    "Ans: The writerow() method."
   ]
  },
  {
   "cell_type": "raw",
   "id": "88800a3d-24c9-4649-a6f9-ac75c6ced142",
   "metadata": {},
   "source": [
    "5. What do the keyword arguments delimiter and line terminator do?"
   ]
  },
  {
   "cell_type": "raw",
   "id": "dbf3f75c-0ca7-411f-8177-2d87b8aeafc4",
   "metadata": {},
   "source": [
    "Ans: Lets take the example of a csv file: First Name, Last Name, Age Mano, Vishnu, 24 Vishnu, Vardhan, 21 Here ',' is Delimiter. We can use any Character as per our needs if required. Similarly Line Terminator comes at end of line by default it is newline and can be changed accourding to Requirement."
   ]
  },
  {
   "cell_type": "raw",
   "id": "63535529-8d1a-4a24-8620-1c2163fadcd8",
   "metadata": {},
   "source": [
    "6. What function takes a string of JSON data and returns a Python data structure?"
   ]
  },
  {
   "cell_type": "code",
   "execution_count": 5,
   "id": "972493bc-100f-450c-969c-a9274952c2cb",
   "metadata": {},
   "outputs": [
    {
     "name": "stdout",
     "output_type": "stream",
     "text": [
      "{'name': 'Himanshu', 'age': 18, 'city': 'haryana'}\n"
     ]
    }
   ],
   "source": [
    "import json\n",
    "json_data = '{\"name\": \"Himanshu\", \"age\": 18, \"city\": \"haryana\"}'\n",
    "data = json.loads(json_data)\n",
    "print(data)  "
   ]
  },
  {
   "cell_type": "raw",
   "id": "521f3d3f-744b-498a-bcc7-848285f77f7a",
   "metadata": {},
   "source": [
    "7. What function takes a Python data structure and returns a string of JSON data?"
   ]
  },
  {
   "cell_type": "raw",
   "id": "22f1d769-d176-4a6d-be00-d94d0f8c61ff",
   "metadata": {},
   "source": [
    "Ans: json.dump()"
   ]
  },
  {
   "cell_type": "code",
   "execution_count": 6,
   "id": "c8f4a038-4ee4-4153-9c5a-cd9490a0b5b7",
   "metadata": {},
   "outputs": [
    {
     "name": "stdout",
     "output_type": "stream",
     "text": [
      "\"{\\\"name\\\": \\\"John\\\", \\\"age\\\": 30, \\\"city\\\": \\\"New York\\\"}\"\n"
     ]
    }
   ],
   "source": [
    "json_data = '{\"name\": \"John\", \"age\": 30, \"city\": \"H\"}'\n",
    "data = json.dumps(json_data)\n",
    "print(data)"
   ]
  }
 ],
 "metadata": {
  "kernelspec": {
   "display_name": "Python 3 (ipykernel)",
   "language": "python",
   "name": "python3"
  },
  "language_info": {
   "codemirror_mode": {
    "name": "ipython",
    "version": 3
   },
   "file_extension": ".py",
   "mimetype": "text/x-python",
   "name": "python",
   "nbconvert_exporter": "python",
   "pygments_lexer": "ipython3",
   "version": "3.10.6"
  }
 },
 "nbformat": 4,
 "nbformat_minor": 5
}
