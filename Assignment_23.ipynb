{
 "cells": [
  {
   "cell_type": "markdown",
   "id": "1eecf52b-2652-4e91-b88e-8c8328ced15e",
   "metadata": {},
   "source": [
    "# Assignment 23"
   ]
  },
  {
   "cell_type": "raw",
   "id": "d13c5ba9-b0a1-48ab-83a5-2883dac21ffa",
   "metadata": {},
   "source": [
    "1. What is the result of the code, and why?\n",
    "def func(a, b=6, c=8): print(a, b, c) func(1, 2)"
   ]
  },
  {
   "cell_type": "raw",
   "id": "72206cbb-9553-4ae6-9fa2-f73a6ce62c70",
   "metadata": {},
   "source": [
    "Ans: The result of the above code is 1 2 8. its because the function uses the default value of c is 8 which is provided at the time of declaration"
   ]
  },
  {
   "cell_type": "code",
   "execution_count": 1,
   "id": "ca2c3228-4f8e-4447-b589-1e3f9624d790",
   "metadata": {},
   "outputs": [
    {
     "name": "stdout",
     "output_type": "stream",
     "text": [
      "1 2 8\n"
     ]
    }
   ],
   "source": [
    "def func(a,b=6,c=8):\n",
    "    print(a,b,c)\n",
    "func(1,2)"
   ]
  },
  {
   "cell_type": "raw",
   "id": "0615639a-bd70-462f-8a2c-e947d940e538",
   "metadata": {},
   "source": [
    "2. What is the result of this code, and why?\n",
    "def func(a, b, c=5): print(a, b, c) func(1, c=3, b=2)"
   ]
  },
  {
   "cell_type": "raw",
   "id": "f30d7fea-de71-4548-a5ba-ed8fc87abba3",
   "metadata": {},
   "source": [
    "Ans: The result of the above code is 1 2 3. it is because the function will use default values only when a value for a argument is not provided and if argument name is mentioned while doing a function call, the order of arguments is also ignored by the python interpreter"
   ]
  },
  {
   "cell_type": "code",
   "execution_count": null,
   "id": "2b91ca55-2848-4f0d-9901-c8033b55793b",
   "metadata": {},
   "outputs": [
    {
     "name": "stdout",
     "output_type": "stream",
     "text": [
      "1 2 3\n"
     ]
    }
   ],
   "source": [
    "def func(a,b,c=5):\n",
    "    print(a,b,c)\n",
    "func(1,c=3,b=2)"
   ]
  },
  {
   "cell_type": "raw",
   "id": "2bf57350-78f4-4377-abc5-504860d13406",
   "metadata": {},
   "source": [
    "3. How about this code: what is its result, and why?\n",
    "def func(a, *pargs): print(a, pargs) func(1, 2, 3)"
   ]
  },
  {
   "cell_type": "raw",
   "id": "ae15dcb8-4bb8-4297-8100-143430c01b1d",
   "metadata": {},
   "source": [
    "Ans: The result of the code is 1 (2,3). *pargs stands for variable length arguments. this format is used when we are not sure about the no of arguments to be passed to a function. all the values under this argument will be stored in a tuple."
   ]
  },
  {
   "cell_type": "code",
   "execution_count": 1,
   "id": "0d5c867b-7642-488b-b0b6-6f25e223045e",
   "metadata": {},
   "outputs": [
    {
     "name": "stdout",
     "output_type": "stream",
     "text": [
      "1 (2, 3)\n"
     ]
    }
   ],
   "source": [
    "def func(a, *args):\n",
    "    print(a,args)\n",
    "func(1,2,3)"
   ]
  },
  {
   "cell_type": "raw",
   "id": "a28a9046-c5c1-43fc-b8d4-2ffaa17bcf15",
   "metadata": {},
   "source": [
    "4. What does this code print, and why?\n",
    "def func(a, kargs): print(a, kargs) func(a=1, c=3, b=2)"
   ]
  },
  {
   "cell_type": "raw",
   "id": "f832cf58-0cb4-4e65-98d0-93f2365d6174",
   "metadata": {},
   "source": [
    "Ans: The result of the above code is 1 {'c': 3, 'b': 2}. **args stands for variable length keyword arguments. this format is used when we want pass key value pairs as input to a function. All these key value pairs will be stored in a dictionary"
   ]
  },
  {
   "cell_type": "code",
   "execution_count": 2,
   "id": "919f08d7-b5c6-4936-bdb2-7ca3ec7abaa7",
   "metadata": {},
   "outputs": [
    {
     "name": "stdout",
     "output_type": "stream",
     "text": [
      "1 {'c': 3, 'b': 2}\n"
     ]
    }
   ],
   "source": [
    "def func(a,**kargs):\n",
    "    print(a,kargs)\n",
    "func(a=1,c=3,b=2)"
   ]
  },
  {
   "cell_type": "raw",
   "id": "a12a0b5e-5f5a-4336-a2f3-65e1bd8767dd",
   "metadata": {},
   "source": [
    "5. What gets printed by this, and explain?\n",
    "def func(a, b, c=8, d=5): print(a, b, c, d) func(1, *(5, 6))"
   ]
  },
  {
   "cell_type": "raw",
   "id": "d3bbf9bf-0000-4981-a49e-e3d89152fa7b",
   "metadata": {},
   "source": [
    "Ans: The output of the above is 1 5 6 5. This reason for this function not throwing an error is because, this function expects 4 arguments. the value for a is provided explicitly whereas for arguments b and c, the function will expand the *(5,6) and consider the value of b as 5 and value of c as 6. since the default value of d is provided in function declaration d value will be 5. However it is recommended to use the feature of positional arguments at the end."
   ]
  },
  {
   "cell_type": "code",
   "execution_count": 4,
   "id": "3f6a367e-594f-4711-8caf-22d73f5538d0",
   "metadata": {},
   "outputs": [
    {
     "name": "stdout",
     "output_type": "stream",
     "text": [
      "1 5 6 5\n"
     ]
    }
   ],
   "source": [
    "def func(a,b,c=8,d=5):\n",
    "    print(a,b,c,d)\n",
    "func(1,*(5,6))"
   ]
  },
  {
   "cell_type": "code",
   "execution_count": null,
   "id": "5eecd70e-0fe9-4db6-9820-9863d9d7993e",
   "metadata": {},
   "outputs": [],
   "source": []
  },
  {
   "cell_type": "code",
   "execution_count": null,
   "id": "798b0502-994f-449e-b4fb-7d2e5dba8b7a",
   "metadata": {},
   "outputs": [],
   "source": []
  },
  {
   "cell_type": "code",
   "execution_count": null,
   "id": "06713bc1-09e5-478a-a2c4-b75822d11828",
   "metadata": {},
   "outputs": [],
   "source": []
  },
  {
   "cell_type": "code",
   "execution_count": null,
   "id": "a2411ed5-9913-410a-b8ab-08660994c528",
   "metadata": {},
   "outputs": [],
   "source": []
  },
  {
   "cell_type": "code",
   "execution_count": null,
   "id": "1ca0f3a9-cfbc-4ed7-aadf-09fc4b3e7592",
   "metadata": {},
   "outputs": [],
   "source": []
  },
  {
   "cell_type": "code",
   "execution_count": null,
   "id": "0cb3089e-d203-4f3d-9db1-caf013278c72",
   "metadata": {},
   "outputs": [],
   "source": []
  },
  {
   "cell_type": "code",
   "execution_count": null,
   "id": "7d0c6c4d-3142-4e80-8235-a8124a64bcd9",
   "metadata": {},
   "outputs": [],
   "source": []
  },
  {
   "cell_type": "code",
   "execution_count": null,
   "id": "46102a2b-43cc-43c7-a020-ff75f3239ec8",
   "metadata": {},
   "outputs": [],
   "source": []
  }
 ],
 "metadata": {
  "kernelspec": {
   "display_name": "Python 3 (ipykernel)",
   "language": "python",
   "name": "python3"
  },
  "language_info": {
   "codemirror_mode": {
    "name": "ipython",
    "version": 3
   },
   "file_extension": ".py",
   "mimetype": "text/x-python",
   "name": "python",
   "nbconvert_exporter": "python",
   "pygments_lexer": "ipython3",
   "version": "3.10.6"
  }
 },
 "nbformat": 4,
 "nbformat_minor": 5
}
